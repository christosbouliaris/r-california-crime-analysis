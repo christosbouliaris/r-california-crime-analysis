{
 "cells": [
  {
   "cell_type": "markdown",
   "id": "f8a7795c-737e-4b2f-81f2-38c07e21e2e7",
   "metadata": {},
   "source": [
    "# California Crime Analysis (R)\n",
    "### Dataset Description\n",
    "This project uses the “California Crime and Law Enforcement” dataset (2015) from Kaggle. It includes crime statistics by city and county in California (e.g., violent and property crimes) as well as corresponding law enforcement employee numbers. The dataset enables analysis of crime distribution, officer-to-population ratios, outlier detection, and exploratory modeling.\n"
   ]
  },
  {
   "cell_type": "code",
   "execution_count": null,
   "id": "ef82c072-0e01-456c-b852-6f0873a87a49",
   "metadata": {},
   "outputs": [],
   "source": [
    "#Libraries\n",
    "library(readr)\n",
    "#Package for skewness and kurtosis\n",
    "install.packages(\"e1071\") \n",
    "library(e1071) \n",
    "#Packages for correlation and NB method\n",
    "install.packages(\"caret\")\n",
    "library(caret)\n",
    "install.packages(\"corrplot\")\n",
    "library(corrplot)\n",
    "#Package for function left_join\n",
    "install.packages(\"tidyverse\")\n",
    "library(tidyverse)\n",
    "#Package for spatial data of counties of California, download the map of the counties of California.\n",
    "install.packages(\"tigris\")\n",
    "library(tigris)\n",
    "#Basic package for spatial data\n",
    "install.packages(\"sf\")\n",
    "library(sf)\n",
    "#Package to draw the map\n",
    "install.packages(\"ggplot2\")\n",
    "library(ggplot2)\n",
    "install.packages(\"caTools\")\n",
    "library(caTools)"
   ]
  },
  {
   "cell_type": "code",
   "execution_count": 33,
   "id": "299dc61a-b6cc-4dcc-adcf-15600dd2b959",
   "metadata": {},
   "outputs": [
    {
     "data": {
      "text/html": [
       "<table class=\"dataframe\">\n",
       "<caption>A data.frame: 6 × 5</caption>\n",
       "<thead>\n",
       "\t<tr><th></th><th scope=col>City</th><th scope=col>Population</th><th scope=col>Total.law.enforcement.employees</th><th scope=col>Total..officers</th><th scope=col>Total..civilians</th></tr>\n",
       "\t<tr><th></th><th scope=col>&lt;chr&gt;</th><th scope=col>&lt;chr&gt;</th><th scope=col>&lt;chr&gt;</th><th scope=col>&lt;chr&gt;</th><th scope=col>&lt;chr&gt;</th></tr>\n",
       "</thead>\n",
       "<tbody>\n",
       "\t<tr><th scope=row>1</th><td>Alameda </td><td>78,613 </td><td>112</td><td>83 </td><td>29 </td></tr>\n",
       "\t<tr><th scope=row>2</th><td>Albany  </td><td>19,723 </td><td>30 </td><td>23 </td><td>7  </td></tr>\n",
       "\t<tr><th scope=row>3</th><td>Alhambra</td><td>86,175 </td><td>128</td><td>85 </td><td>43 </td></tr>\n",
       "\t<tr><th scope=row>4</th><td>Alturas </td><td>2,566  </td><td>6  </td><td>5  </td><td>1  </td></tr>\n",
       "\t<tr><th scope=row>5</th><td>Anaheim </td><td>349,471</td><td>577</td><td>399</td><td>178</td></tr>\n",
       "\t<tr><th scope=row>6</th><td>Anderson</td><td>10,277 </td><td>24 </td><td>18 </td><td>6  </td></tr>\n",
       "</tbody>\n",
       "</table>\n"
      ],
      "text/latex": [
       "A data.frame: 6 × 5\n",
       "\\begin{tabular}{r|lllll}\n",
       "  & City & Population & Total.law.enforcement.employees & Total..officers & Total..civilians\\\\\n",
       "  & <chr> & <chr> & <chr> & <chr> & <chr>\\\\\n",
       "\\hline\n",
       "\t1 & Alameda  & 78,613  & 112 & 83  & 29 \\\\\n",
       "\t2 & Albany   & 19,723  & 30  & 23  & 7  \\\\\n",
       "\t3 & Alhambra & 86,175  & 128 & 85  & 43 \\\\\n",
       "\t4 & Alturas  & 2,566   & 6   & 5   & 1  \\\\\n",
       "\t5 & Anaheim  & 349,471 & 577 & 399 & 178\\\\\n",
       "\t6 & Anderson & 10,277  & 24  & 18  & 6  \\\\\n",
       "\\end{tabular}\n"
      ],
      "text/markdown": [
       "\n",
       "A data.frame: 6 × 5\n",
       "\n",
       "| <!--/--> | City &lt;chr&gt; | Population &lt;chr&gt; | Total.law.enforcement.employees &lt;chr&gt; | Total..officers &lt;chr&gt; | Total..civilians &lt;chr&gt; |\n",
       "|---|---|---|---|---|---|\n",
       "| 1 | Alameda  | 78,613  | 112 | 83  | 29  |\n",
       "| 2 | Albany   | 19,723  | 30  | 23  | 7   |\n",
       "| 3 | Alhambra | 86,175  | 128 | 85  | 43  |\n",
       "| 4 | Alturas  | 2,566   | 6   | 5   | 1   |\n",
       "| 5 | Anaheim  | 349,471 | 577 | 399 | 178 |\n",
       "| 6 | Anderson | 10,277  | 24  | 18  | 6   |\n",
       "\n"
      ],
      "text/plain": [
       "  City     Population Total.law.enforcement.employees Total..officers\n",
       "1 Alameda  78,613     112                             83             \n",
       "2 Albany   19,723     30                              23             \n",
       "3 Alhambra 86,175     128                             85             \n",
       "4 Alturas  2,566      6                               5              \n",
       "5 Anaheim  349,471    577                             399            \n",
       "6 Anderson 10,277     24                              18             \n",
       "  Total..civilians\n",
       "1 29              \n",
       "2 7               \n",
       "3 43              \n",
       "4 1               \n",
       "5 178             \n",
       "6 6               "
      ]
     },
     "metadata": {},
     "output_type": "display_data"
    }
   ],
   "source": [
    "#Load ca_law_enforcement_by_city.csv,provide information about the police force in each city\n",
    "law_city <- read.csv(\"C:/Users/chris/OneDrive/Έγγραφα/R_scripts/ca_law_enforcement_by_city.csv\")\n",
    "head(law_city)"
   ]
  },
  {
   "cell_type": "code",
   "execution_count": 35,
   "id": "5d4730ef-a1f9-4112-b1f7-3e5cf7b3383b",
   "metadata": {
    "jupyter": {
     "source_hidden": true
    }
   },
   "outputs": [
    {
     "data": {
      "text/html": [
       "<table class=\"dataframe\">\n",
       "<caption>A data.frame: 6 × 5</caption>\n",
       "<thead>\n",
       "\t<tr><th></th><th scope=col>Metropolitan.Nonmetropolitan</th><th scope=col>County</th><th scope=col>Total.law.enforcement.employees</th><th scope=col>Total.officers</th><th scope=col>Total.civilians</th></tr>\n",
       "\t<tr><th></th><th scope=col>&lt;chr&gt;</th><th scope=col>&lt;chr&gt;</th><th scope=col>&lt;chr&gt;</th><th scope=col>&lt;chr&gt;</th><th scope=col>&lt;chr&gt;</th></tr>\n",
       "</thead>\n",
       "<tbody>\n",
       "\t<tr><th scope=row>1</th><td>Metropolitan Counties</td><td>Alameda     </td><td>1,560</td><td>978</td><td>582</td></tr>\n",
       "\t<tr><th scope=row>2</th><td>Metropolitan Counties</td><td>Butte       </td><td>288  </td><td>101</td><td>187</td></tr>\n",
       "\t<tr><th scope=row>3</th><td>Metropolitan Counties</td><td>Contra Costa</td><td>936  </td><td>610</td><td>326</td></tr>\n",
       "\t<tr><th scope=row>4</th><td>Metropolitan Counties</td><td>El Dorado   </td><td>349  </td><td>164</td><td>185</td></tr>\n",
       "\t<tr><th scope=row>5</th><td>Metropolitan Counties</td><td>Fresno      </td><td>1,043</td><td>406</td><td>637</td></tr>\n",
       "\t<tr><th scope=row>6</th><td>Metropolitan Counties</td><td>Imperial    </td><td>283  </td><td>190</td><td>93 </td></tr>\n",
       "</tbody>\n",
       "</table>\n"
      ],
      "text/latex": [
       "A data.frame: 6 × 5\n",
       "\\begin{tabular}{r|lllll}\n",
       "  & Metropolitan.Nonmetropolitan & County & Total.law.enforcement.employees & Total.officers & Total.civilians\\\\\n",
       "  & <chr> & <chr> & <chr> & <chr> & <chr>\\\\\n",
       "\\hline\n",
       "\t1 & Metropolitan Counties & Alameda      & 1,560 & 978 & 582\\\\\n",
       "\t2 & Metropolitan Counties & Butte        & 288   & 101 & 187\\\\\n",
       "\t3 & Metropolitan Counties & Contra Costa & 936   & 610 & 326\\\\\n",
       "\t4 & Metropolitan Counties & El Dorado    & 349   & 164 & 185\\\\\n",
       "\t5 & Metropolitan Counties & Fresno       & 1,043 & 406 & 637\\\\\n",
       "\t6 & Metropolitan Counties & Imperial     & 283   & 190 & 93 \\\\\n",
       "\\end{tabular}\n"
      ],
      "text/markdown": [
       "\n",
       "A data.frame: 6 × 5\n",
       "\n",
       "| <!--/--> | Metropolitan.Nonmetropolitan &lt;chr&gt; | County &lt;chr&gt; | Total.law.enforcement.employees &lt;chr&gt; | Total.officers &lt;chr&gt; | Total.civilians &lt;chr&gt; |\n",
       "|---|---|---|---|---|---|\n",
       "| 1 | Metropolitan Counties | Alameda      | 1,560 | 978 | 582 |\n",
       "| 2 | Metropolitan Counties | Butte        | 288   | 101 | 187 |\n",
       "| 3 | Metropolitan Counties | Contra Costa | 936   | 610 | 326 |\n",
       "| 4 | Metropolitan Counties | El Dorado    | 349   | 164 | 185 |\n",
       "| 5 | Metropolitan Counties | Fresno       | 1,043 | 406 | 637 |\n",
       "| 6 | Metropolitan Counties | Imperial     | 283   | 190 | 93  |\n",
       "\n"
      ],
      "text/plain": [
       "  Metropolitan.Nonmetropolitan County       Total.law.enforcement.employees\n",
       "1 Metropolitan Counties        Alameda      1,560                          \n",
       "2 Metropolitan Counties        Butte        288                            \n",
       "3 Metropolitan Counties        Contra Costa 936                            \n",
       "4 Metropolitan Counties        El Dorado    349                            \n",
       "5 Metropolitan Counties        Fresno       1,043                          \n",
       "6 Metropolitan Counties        Imperial     283                            \n",
       "  Total.officers Total.civilians\n",
       "1 978            582            \n",
       "2 101            187            \n",
       "3 610            326            \n",
       "4 164            185            \n",
       "5 406            637            \n",
       "6 190            93             "
      ]
     },
     "metadata": {},
     "output_type": "display_data"
    }
   ],
   "source": [
    "#Load ca_law_enforcement_by_city.csv ,provide information about the police force in each county.\n",
    "law_county <- read.csv(\"C:/Users/chris/OneDrive/Έγγραφα/R_scripts/ca_law_enforcement_by_county.csv\")\n",
    "head(law_county)"
   ]
  },
  {
   "cell_type": "code",
   "execution_count": 37,
   "id": "86bbf3eb-bd4b-41ba-ba05-e16ad841fb4e",
   "metadata": {},
   "outputs": [
    {
     "data": {
      "text/html": [
       "<table class=\"dataframe\">\n",
       "<caption>A data.frame: 6 × 13</caption>\n",
       "<thead>\n",
       "\t<tr><th></th><th scope=col>City</th><th scope=col>Population</th><th scope=col>Violent.crime</th><th scope=col>Murder.and.nonnegligent.manslaughter</th><th scope=col>Rape..revised.definition.</th><th scope=col>Rape..legacy.definition.</th><th scope=col>Robbery</th><th scope=col>Aggravated.assault</th><th scope=col>Property.crime</th><th scope=col>Burglary</th><th scope=col>Larceny.theft</th><th scope=col>Motor.vehicle.theft</th><th scope=col>Arson</th></tr>\n",
       "\t<tr><th></th><th scope=col>&lt;chr&gt;</th><th scope=col>&lt;chr&gt;</th><th scope=col>&lt;chr&gt;</th><th scope=col>&lt;int&gt;</th><th scope=col>&lt;chr&gt;</th><th scope=col>&lt;lgl&gt;</th><th scope=col>&lt;chr&gt;</th><th scope=col>&lt;chr&gt;</th><th scope=col>&lt;chr&gt;</th><th scope=col>&lt;chr&gt;</th><th scope=col>&lt;chr&gt;</th><th scope=col>&lt;chr&gt;</th><th scope=col>&lt;chr&gt;</th></tr>\n",
       "</thead>\n",
       "<tbody>\n",
       "\t<tr><th scope=row>1</th><td>Adelanto    </td><td>33,005</td><td>212</td><td>2</td><td>14</td><td>NA</td><td>48</td><td>148</td><td>808  </td><td>434</td><td>254  </td><td>120</td><td>24</td></tr>\n",
       "\t<tr><th scope=row>2</th><td>Agoura Hills</td><td>20,970</td><td>15 </td><td>0</td><td>1 </td><td>NA</td><td>6 </td><td>8  </td><td>310  </td><td>82 </td><td>217  </td><td>11 </td><td>0 </td></tr>\n",
       "\t<tr><th scope=row>3</th><td>Alameda     </td><td>78,613</td><td>148</td><td>2</td><td>7 </td><td>NA</td><td>61</td><td>78 </td><td>1,819</td><td>228</td><td>1,245</td><td>346</td><td>18</td></tr>\n",
       "\t<tr><th scope=row>4</th><td>Albany      </td><td>19,723</td><td>34 </td><td>1</td><td>6 </td><td>NA</td><td>16</td><td>11 </td><td>605  </td><td>95 </td><td>447  </td><td>63 </td><td>0 </td></tr>\n",
       "\t<tr><th scope=row>5</th><td>Alhambra3   </td><td>86,175</td><td>168</td><td>1</td><td>13</td><td>NA</td><td>74</td><td>80 </td><td>1,929</td><td>305</td><td>1,413</td><td>211</td><td>6 </td></tr>\n",
       "\t<tr><th scope=row>6</th><td>Aliso Viejo </td><td>50,751</td><td>32 </td><td>0</td><td>5 </td><td>NA</td><td>3 </td><td>24 </td><td>363  </td><td>53 </td><td>276  </td><td>34 </td><td>1 </td></tr>\n",
       "</tbody>\n",
       "</table>\n"
      ],
      "text/latex": [
       "A data.frame: 6 × 13\n",
       "\\begin{tabular}{r|lllllllllllll}\n",
       "  & City & Population & Violent.crime & Murder.and.nonnegligent.manslaughter & Rape..revised.definition. & Rape..legacy.definition. & Robbery & Aggravated.assault & Property.crime & Burglary & Larceny.theft & Motor.vehicle.theft & Arson\\\\\n",
       "  & <chr> & <chr> & <chr> & <int> & <chr> & <lgl> & <chr> & <chr> & <chr> & <chr> & <chr> & <chr> & <chr>\\\\\n",
       "\\hline\n",
       "\t1 & Adelanto     & 33,005 & 212 & 2 & 14 & NA & 48 & 148 & 808   & 434 & 254   & 120 & 24\\\\\n",
       "\t2 & Agoura Hills & 20,970 & 15  & 0 & 1  & NA & 6  & 8   & 310   & 82  & 217   & 11  & 0 \\\\\n",
       "\t3 & Alameda      & 78,613 & 148 & 2 & 7  & NA & 61 & 78  & 1,819 & 228 & 1,245 & 346 & 18\\\\\n",
       "\t4 & Albany       & 19,723 & 34  & 1 & 6  & NA & 16 & 11  & 605   & 95  & 447   & 63  & 0 \\\\\n",
       "\t5 & Alhambra3    & 86,175 & 168 & 1 & 13 & NA & 74 & 80  & 1,929 & 305 & 1,413 & 211 & 6 \\\\\n",
       "\t6 & Aliso Viejo  & 50,751 & 32  & 0 & 5  & NA & 3  & 24  & 363   & 53  & 276   & 34  & 1 \\\\\n",
       "\\end{tabular}\n"
      ],
      "text/markdown": [
       "\n",
       "A data.frame: 6 × 13\n",
       "\n",
       "| <!--/--> | City &lt;chr&gt; | Population &lt;chr&gt; | Violent.crime &lt;chr&gt; | Murder.and.nonnegligent.manslaughter &lt;int&gt; | Rape..revised.definition. &lt;chr&gt; | Rape..legacy.definition. &lt;lgl&gt; | Robbery &lt;chr&gt; | Aggravated.assault &lt;chr&gt; | Property.crime &lt;chr&gt; | Burglary &lt;chr&gt; | Larceny.theft &lt;chr&gt; | Motor.vehicle.theft &lt;chr&gt; | Arson &lt;chr&gt; |\n",
       "|---|---|---|---|---|---|---|---|---|---|---|---|---|---|\n",
       "| 1 | Adelanto     | 33,005 | 212 | 2 | 14 | NA | 48 | 148 | 808   | 434 | 254   | 120 | 24 |\n",
       "| 2 | Agoura Hills | 20,970 | 15  | 0 | 1  | NA | 6  | 8   | 310   | 82  | 217   | 11  | 0  |\n",
       "| 3 | Alameda      | 78,613 | 148 | 2 | 7  | NA | 61 | 78  | 1,819 | 228 | 1,245 | 346 | 18 |\n",
       "| 4 | Albany       | 19,723 | 34  | 1 | 6  | NA | 16 | 11  | 605   | 95  | 447   | 63  | 0  |\n",
       "| 5 | Alhambra3    | 86,175 | 168 | 1 | 13 | NA | 74 | 80  | 1,929 | 305 | 1,413 | 211 | 6  |\n",
       "| 6 | Aliso Viejo  | 50,751 | 32  | 0 | 5  | NA | 3  | 24  | 363   | 53  | 276   | 34  | 1  |\n",
       "\n"
      ],
      "text/plain": [
       "  City         Population Violent.crime Murder.and.nonnegligent.manslaughter\n",
       "1 Adelanto     33,005     212           2                                   \n",
       "2 Agoura Hills 20,970     15            0                                   \n",
       "3 Alameda      78,613     148           2                                   \n",
       "4 Albany       19,723     34            1                                   \n",
       "5 Alhambra3    86,175     168           1                                   \n",
       "6 Aliso Viejo  50,751     32            0                                   \n",
       "  Rape..revised.definition. Rape..legacy.definition. Robbery Aggravated.assault\n",
       "1 14                        NA                       48      148               \n",
       "2 1                         NA                       6       8                 \n",
       "3 7                         NA                       61      78                \n",
       "4 6                         NA                       16      11                \n",
       "5 13                        NA                       74      80                \n",
       "6 5                         NA                       3       24                \n",
       "  Property.crime Burglary Larceny.theft Motor.vehicle.theft Arson\n",
       "1 808            434      254           120                 24   \n",
       "2 310            82       217           11                  0    \n",
       "3 1,819          228      1,245         346                 18   \n",
       "4 605            95       447           63                  0    \n",
       "5 1,929          305      1,413         211                 6    \n",
       "6 363            53       276           34                  1    "
      ]
     },
     "metadata": {},
     "output_type": "display_data"
    }
   ],
   "source": [
    "#Load ca_offenses_by_city.csv,provide information about recorded crimes in California classified by city.\n",
    "offenses_city <- read.csv(\"C:/Users/chris/OneDrive/Έγγραφα/R_scripts/ca_offenses_by_city.csv\")\n",
    "head(offenses_city)"
   ]
  },
  {
   "cell_type": "code",
   "execution_count": 39,
   "id": "fcb0e780-e00c-40b5-b0ed-b4f07c5ba9b7",
   "metadata": {},
   "outputs": [
    {
     "data": {
      "text/html": [
       "<table class=\"dataframe\">\n",
       "<caption>A data.frame: 6 × 13</caption>\n",
       "<thead>\n",
       "\t<tr><th></th><th scope=col>Metropolitan.Nonmetropolitan</th><th scope=col>County</th><th scope=col>Violent.crime</th><th scope=col>Murder.and.nonnegligent.manslaughter</th><th scope=col>Rape..revised.definition.</th><th scope=col>Rape.legacy.definition.</th><th scope=col>Robbery</th><th scope=col>Aggravated.assault</th><th scope=col>Property.crime</th><th scope=col>Burglary</th><th scope=col>Larceny.theft</th><th scope=col>Motor.vehicle.theft</th><th scope=col>Arson</th></tr>\n",
       "\t<tr><th></th><th scope=col>&lt;chr&gt;</th><th scope=col>&lt;chr&gt;</th><th scope=col>&lt;chr&gt;</th><th scope=col>&lt;dbl&gt;</th><th scope=col>&lt;dbl&gt;</th><th scope=col>&lt;lgl&gt;</th><th scope=col>&lt;chr&gt;</th><th scope=col>&lt;chr&gt;</th><th scope=col>&lt;chr&gt;</th><th scope=col>&lt;chr&gt;</th><th scope=col>&lt;chr&gt;</th><th scope=col>&lt;chr&gt;</th><th scope=col>&lt;dbl&gt;</th></tr>\n",
       "</thead>\n",
       "<tbody>\n",
       "\t<tr><th scope=row>1</th><td>Metropolitan Counties</td><td>Alameda     </td><td>510</td><td> 6</td><td>13</td><td>NA</td><td>177</td><td>314</td><td>2,077</td><td>463  </td><td>985  </td><td>629</td><td> 11</td></tr>\n",
       "\t<tr><th scope=row>2</th><td>Metropolitan Counties</td><td>Butte3      </td><td>155</td><td> 4</td><td>20</td><td>NA</td><td>14 </td><td>117</td><td>1,422</td><td>708  </td><td>693  </td><td>21 </td><td>  0</td></tr>\n",
       "\t<tr><th scope=row>3</th><td>Metropolitan Counties</td><td>Contra Costa</td><td>426</td><td>14</td><td>24</td><td>NA</td><td>153</td><td>235</td><td>2,013</td><td>660  </td><td>1,332</td><td>21 </td><td> 18</td></tr>\n",
       "\t<tr><th scope=row>4</th><td>Metropolitan Counties</td><td>El Dorado3  </td><td>252</td><td> 9</td><td>46</td><td>NA</td><td>32 </td><td>165</td><td>2,031</td><td>577  </td><td>1,412</td><td>42 </td><td>  4</td></tr>\n",
       "\t<tr><th scope=row>5</th><td>Metropolitan Counties</td><td>Fresno      </td><td>962</td><td> 8</td><td>32</td><td>NA</td><td>112</td><td>810</td><td>3,810</td><td>1,398</td><td>1,838</td><td>574</td><td>145</td></tr>\n",
       "\t<tr><th scope=row>6</th><td>Metropolitan Counties</td><td>Imperial3   </td><td>219</td><td> 0</td><td> 6</td><td>NA</td><td>7  </td><td>206</td><td>625  </td><td>202  </td><td>395  </td><td>28 </td><td> 21</td></tr>\n",
       "</tbody>\n",
       "</table>\n"
      ],
      "text/latex": [
       "A data.frame: 6 × 13\n",
       "\\begin{tabular}{r|lllllllllllll}\n",
       "  & Metropolitan.Nonmetropolitan & County & Violent.crime & Murder.and.nonnegligent.manslaughter & Rape..revised.definition. & Rape.legacy.definition. & Robbery & Aggravated.assault & Property.crime & Burglary & Larceny.theft & Motor.vehicle.theft & Arson\\\\\n",
       "  & <chr> & <chr> & <chr> & <dbl> & <dbl> & <lgl> & <chr> & <chr> & <chr> & <chr> & <chr> & <chr> & <dbl>\\\\\n",
       "\\hline\n",
       "\t1 & Metropolitan Counties & Alameda      & 510 &  6 & 13 & NA & 177 & 314 & 2,077 & 463   & 985   & 629 &  11\\\\\n",
       "\t2 & Metropolitan Counties & Butte3       & 155 &  4 & 20 & NA & 14  & 117 & 1,422 & 708   & 693   & 21  &   0\\\\\n",
       "\t3 & Metropolitan Counties & Contra Costa & 426 & 14 & 24 & NA & 153 & 235 & 2,013 & 660   & 1,332 & 21  &  18\\\\\n",
       "\t4 & Metropolitan Counties & El Dorado3   & 252 &  9 & 46 & NA & 32  & 165 & 2,031 & 577   & 1,412 & 42  &   4\\\\\n",
       "\t5 & Metropolitan Counties & Fresno       & 962 &  8 & 32 & NA & 112 & 810 & 3,810 & 1,398 & 1,838 & 574 & 145\\\\\n",
       "\t6 & Metropolitan Counties & Imperial3    & 219 &  0 &  6 & NA & 7   & 206 & 625   & 202   & 395   & 28  &  21\\\\\n",
       "\\end{tabular}\n"
      ],
      "text/markdown": [
       "\n",
       "A data.frame: 6 × 13\n",
       "\n",
       "| <!--/--> | Metropolitan.Nonmetropolitan &lt;chr&gt; | County &lt;chr&gt; | Violent.crime &lt;chr&gt; | Murder.and.nonnegligent.manslaughter &lt;dbl&gt; | Rape..revised.definition. &lt;dbl&gt; | Rape.legacy.definition. &lt;lgl&gt; | Robbery &lt;chr&gt; | Aggravated.assault &lt;chr&gt; | Property.crime &lt;chr&gt; | Burglary &lt;chr&gt; | Larceny.theft &lt;chr&gt; | Motor.vehicle.theft &lt;chr&gt; | Arson &lt;dbl&gt; |\n",
       "|---|---|---|---|---|---|---|---|---|---|---|---|---|---|\n",
       "| 1 | Metropolitan Counties | Alameda      | 510 |  6 | 13 | NA | 177 | 314 | 2,077 | 463   | 985   | 629 |  11 |\n",
       "| 2 | Metropolitan Counties | Butte3       | 155 |  4 | 20 | NA | 14  | 117 | 1,422 | 708   | 693   | 21  |   0 |\n",
       "| 3 | Metropolitan Counties | Contra Costa | 426 | 14 | 24 | NA | 153 | 235 | 2,013 | 660   | 1,332 | 21  |  18 |\n",
       "| 4 | Metropolitan Counties | El Dorado3   | 252 |  9 | 46 | NA | 32  | 165 | 2,031 | 577   | 1,412 | 42  |   4 |\n",
       "| 5 | Metropolitan Counties | Fresno       | 962 |  8 | 32 | NA | 112 | 810 | 3,810 | 1,398 | 1,838 | 574 | 145 |\n",
       "| 6 | Metropolitan Counties | Imperial3    | 219 |  0 |  6 | NA | 7   | 206 | 625   | 202   | 395   | 28  |  21 |\n",
       "\n"
      ],
      "text/plain": [
       "  Metropolitan.Nonmetropolitan County       Violent.crime\n",
       "1 Metropolitan Counties        Alameda      510          \n",
       "2 Metropolitan Counties        Butte3       155          \n",
       "3 Metropolitan Counties        Contra Costa 426          \n",
       "4 Metropolitan Counties        El Dorado3   252          \n",
       "5 Metropolitan Counties        Fresno       962          \n",
       "6 Metropolitan Counties        Imperial3    219          \n",
       "  Murder.and.nonnegligent.manslaughter Rape..revised.definition.\n",
       "1  6                                   13                       \n",
       "2  4                                   20                       \n",
       "3 14                                   24                       \n",
       "4  9                                   46                       \n",
       "5  8                                   32                       \n",
       "6  0                                    6                       \n",
       "  Rape.legacy.definition. Robbery Aggravated.assault Property.crime Burglary\n",
       "1 NA                      177     314                2,077          463     \n",
       "2 NA                      14      117                1,422          708     \n",
       "3 NA                      153     235                2,013          660     \n",
       "4 NA                      32      165                2,031          577     \n",
       "5 NA                      112     810                3,810          1,398   \n",
       "6 NA                      7       206                625            202     \n",
       "  Larceny.theft Motor.vehicle.theft Arson\n",
       "1 985           629                  11  \n",
       "2 693           21                    0  \n",
       "3 1,332         21                   18  \n",
       "4 1,412         42                    4  \n",
       "5 1,838         574                 145  \n",
       "6 395           28                   21  "
      ]
     },
     "metadata": {},
     "output_type": "display_data"
    }
   ],
   "source": [
    "#Preprocessing ca_offenses_by_county.csv data set\n",
    "#To delete those lines later\n",
    "offenses_county <- read.csv(\"C:/Users/chris/OneDrive/Έγγραφα/R_scripts/ca_offenses_by_county.csv\",na.strings = c(\"\", \" \", \"NA\"))\n",
    "head(offenses_county)"
   ]
  },
  {
   "cell_type": "markdown",
   "id": "08c2dd40-fb26-4d38-97e5-772e1f5ad4fb",
   "metadata": {},
   "source": [
    "# Preprocessing ca_law_enforcement_by_city.csv"
   ]
  },
  {
   "cell_type": "code",
   "execution_count": 42,
   "id": "c4850991-0b27-41e5-9401-35a3859febe1",
   "metadata": {
    "scrolled": true
   },
   "outputs": [
    {
     "name": "stdout",
     "output_type": "stream",
     "text": [
      " chr [1:333] \"78,613\" \"19,723\" \"86,175\" \"2,566\" \"349,471\" \"10,277\" ...\n"
     ]
    }
   ],
   "source": [
    "#Preprocessing ca_law_enforcement_by_city.csv\n",
    "#Population attribute changed from character to numeric type\n",
    "str(law_city$Population)\n",
    "law_city$Population <- as.numeric(gsub(\",\", \"\", law_city$Population))\n"
   ]
  },
  {
   "cell_type": "code",
   "execution_count": 44,
   "id": "0dcae9e7-7f54-4b83-a505-b4570a3b215b",
   "metadata": {},
   "outputs": [
    {
     "name": "stdout",
     "output_type": "stream",
     "text": [
      " chr [1:333] \"112\" \"30\" \"128\" \"6\" \"577\" \"24\" \"115\" \"93\" \"35\" \"27\" \"29\" \"37\" ...\n",
      " chr [1:333] \"83\" \"23\" \"85\" \"5\" \"399\" \"18\" \"91\" \"68\" \"25\" \"23\" \"22\" \"27\" ...\n",
      " chr [1:333] \"29\" \"7\" \"43\" \"1\" \"178\" \"6\" \"24\" \"25\" \"10\" \"4\" \"7\" \"10\" \"7\" ...\n",
      "'data.frame':\t333 obs. of  5 variables:\n",
      " $ City                           : chr  \"Alameda\" \"Albany\" \"Alhambra\" \"Alturas\" ...\n",
      " $ Population                     : num  78613 19723 86175 2566 349471 ...\n",
      " $ Total.law.enforcement.employees: num  112 30 128 6 577 24 115 93 35 27 ...\n",
      " $ Total..officers                : num  83 23 85 5 399 18 91 68 25 23 ...\n",
      " $ Total..civilians               : num  29 7 43 1 178 6 24 25 10 4 ...\n"
     ]
    }
   ],
   "source": [
    "str(law_city$Total.law.enforcement.employees)\n",
    "law_city$Total.law.enforcement.employees <- as.numeric(gsub(\",\",\"\",law_city$Total.law.enforcement.employees))\n",
    "str(law_city$Total..officers)\n",
    "law_city$Total..officers <- as.numeric(gsub(\",\",\"\",law_city$Total..officers))\n",
    "str(law_city$Total..civilians)\n",
    "law_city$Total..civilians <- as.numeric(gsub(\",\",\"\",law_city$Total..civilians))\n",
    "str(law_city)"
   ]
  },
  {
   "cell_type": "code",
   "execution_count": 46,
   "id": "fe9e60cd-e9bb-4aad-9b48-c7497a798caa",
   "metadata": {},
   "outputs": [
    {
     "data": {
      "image/png": "[encoded data removed]",
      "text/plain": [
       "Plot with title \"Boxplot Total Civilians\""
      ]
     },
     "metadata": {
      "image/png": {
       "height": 420,
       "width": 420
      }
     },
     "output_type": "display_data"
    }
   ],
   "source": [
    "#Boxplot to check for outliers in ca_law_enforcement_by_city.csv\n",
    "par(mfrow = c(2,2))\n",
    "boxplot(law_city$Population, main = \"Boxplot Population\",ylab = \"Population\")\n",
    "boxplot(law_city$Total.law.enforcement.employees, main = \"Boxplot Total Enforcement Employees\",ylab = \"Enforcement Employees\")\n",
    "boxplot(law_city$Total..officers, main = \"Boxplot Total Officers\",ylab = \"Officers\")\n",
    "boxplot(law_city$Total..civilians, main = \"Boxplot Total Civilians\",ylab = \"Civilians\")"
   ]
  },
  {
   "cell_type": "code",
   "execution_count": 48,
   "id": "e3906f20-cb03-45ab-8f58-f3a68ba0eb49",
   "metadata": {},
   "outputs": [
    {
     "data": {
      "text/html": [
       "22"
      ],
      "text/latex": [
       "22"
      ],
      "text/markdown": [
       "22"
      ],
      "text/plain": [
       "[1] 22"
      ]
     },
     "metadata": {},
     "output_type": "display_data"
    },
    {
     "data": {
      "text/html": [
       "<style>\n",
       ".list-inline {list-style: none; margin:0; padding: 0}\n",
       ".list-inline>li {display: inline-block}\n",
       ".list-inline>li:not(:last-child)::after {content: \"\\00b7\"; padding: 0 .5ex}\n",
       "</style>\n",
       "<ol class=list-inline><li>349471</li><li>373887</li><li>265215</li><li>206982</li><li>232427</li><li>520837</li><li>202298</li><li>203233</li><li>258198</li><li>476318</li><li>3962726</li><li>210794</li><li>419481</li><li>207221</li><li>323064</li><li>489717</li><li>216477</li><li>1400467</li><li>863782</li><li>1031458</li><li>337304</li><li>304890</li></ol>\n"
      ],
      "text/latex": [
       "\\begin{enumerate*}\n",
       "\\item 349471\n",
       "\\item 373887\n",
       "\\item 265215\n",
       "\\item 206982\n",
       "\\item 232427\n",
       "\\item 520837\n",
       "\\item 202298\n",
       "\\item 203233\n",
       "\\item 258198\n",
       "\\item 476318\n",
       "\\item 3962726\n",
       "\\item 210794\n",
       "\\item 419481\n",
       "\\item 207221\n",
       "\\item 323064\n",
       "\\item 489717\n",
       "\\item 216477\n",
       "\\item 1400467\n",
       "\\item 863782\n",
       "\\item 1031458\n",
       "\\item 337304\n",
       "\\item 304890\n",
       "\\end{enumerate*}\n"
      ],
      "text/markdown": [
       "1. 349471\n",
       "2. 373887\n",
       "3. 265215\n",
       "4. 206982\n",
       "5. 232427\n",
       "6. 520837\n",
       "7. 202298\n",
       "8. 203233\n",
       "9. 258198\n",
       "10. 476318\n",
       "11. 3962726\n",
       "12. 210794\n",
       "13. 419481\n",
       "14. 207221\n",
       "15. 323064\n",
       "16. 489717\n",
       "17. 216477\n",
       "18. 1400467\n",
       "19. 863782\n",
       "20. 1031458\n",
       "21. 337304\n",
       "22. 304890\n",
       "\n",
       "\n"
      ],
      "text/plain": [
       " [1]  349471  373887  265215  206982  232427  520837  202298  203233  258198\n",
       "[10]  476318 3962726  210794  419481  207221  323064  489717  216477 1400467\n",
       "[19]  863782 1031458  337304  304890"
      ]
     },
     "metadata": {},
     "output_type": "display_data"
    },
    {
     "data": {
      "text/plain": [
       "   Min. 1st Qu.  Median    Mean 3rd Qu.    Max. \n",
       "    115   11879   33619   80736   81953 3962726 "
      ]
     },
     "metadata": {},
     "output_type": "display_data"
    }
   ],
   "source": [
    "#For Population Attribute\n",
    "#22 outliers\n",
    "length(boxplot.stats(law_city$Population)$out)\n",
    "boxplot.stats(law_city$Population)$out\n",
    "summary(law_city$Population)"
   ]
  },
  {
   "cell_type": "code",
   "execution_count": 50,
   "id": "cf935b3a-a32f-4d31-bb81-b93b8d7fcce7",
   "metadata": {},
   "outputs": [
    {
     "data": {
      "text/html": [
       "26"
      ],
      "text/latex": [
       "26"
      ],
      "text/markdown": [
       "26"
      ],
      "text/plain": [
       "[1] 26"
      ]
     },
     "metadata": {},
     "output_type": "display_data"
    },
    {
     "data": {
      "text/html": [
       "<style>\n",
       ".list-inline {list-style: none; margin:0; padding: 0}\n",
       ".list-inline>li {display: inline-block}\n",
       ".list-inline>li:not(:last-child)::after {content: \"\\00b7\"; padding: 0 .5ex}\n",
       "</style>\n",
       "<ol class=list-inline><li>399</li><li>388</li><li>217</li><li>702</li><li>236</li><li>210</li><li>203</li><li>771</li><li>9863</li><li>216</li><li>734</li><li>206</li><li>234</li><li>237</li><li>221</li><li>368</li><li>646</li><li>214</li><li>1887</li><li>2236</li><li>939</li><li>302</li><li>203</li><li>389</li><li>214</li><li>212</li></ol>\n"
      ],
      "text/latex": [
       "\\begin{enumerate*}\n",
       "\\item 399\n",
       "\\item 388\n",
       "\\item 217\n",
       "\\item 702\n",
       "\\item 236\n",
       "\\item 210\n",
       "\\item 203\n",
       "\\item 771\n",
       "\\item 9863\n",
       "\\item 216\n",
       "\\item 734\n",
       "\\item 206\n",
       "\\item 234\n",
       "\\item 237\n",
       "\\item 221\n",
       "\\item 368\n",
       "\\item 646\n",
       "\\item 214\n",
       "\\item 1887\n",
       "\\item 2236\n",
       "\\item 939\n",
       "\\item 302\n",
       "\\item 203\n",
       "\\item 389\n",
       "\\item 214\n",
       "\\item 212\n",
       "\\end{enumerate*}\n"
      ],
      "text/markdown": [
       "1. 399\n",
       "2. 388\n",
       "3. 217\n",
       "4. 702\n",
       "5. 236\n",
       "6. 210\n",
       "7. 203\n",
       "8. 771\n",
       "9. 9863\n",
       "10. 216\n",
       "11. 734\n",
       "12. 206\n",
       "13. 234\n",
       "14. 237\n",
       "15. 221\n",
       "16. 368\n",
       "17. 646\n",
       "18. 214\n",
       "19. 1887\n",
       "20. 2236\n",
       "21. 939\n",
       "22. 302\n",
       "23. 203\n",
       "24. 389\n",
       "25. 214\n",
       "26. 212\n",
       "\n",
       "\n"
      ],
      "text/plain": [
       " [1]  399  388  217  702  236  210  203  771 9863  216  734  206  234  237  221\n",
       "[16]  368  646  214 1887 2236  939  302  203  389  214  212"
      ]
     },
     "metadata": {},
     "output_type": "display_data"
    },
    {
     "data": {
      "text/plain": [
       "   Min. 1st Qu.  Median    Mean 3rd Qu.    Max. \n",
       "    3.0    16.0    39.0   112.5    85.0  9863.0 "
      ]
     },
     "metadata": {},
     "output_type": "display_data"
    }
   ],
   "source": [
    "#For Total officers Attribute\n",
    "#26 outliers\n",
    "length(boxplot.stats(law_city$Total..officers)$out)\n",
    "boxplot.stats(law_city$Total..officers)$out\n",
    "summary(law_city$Total..officers)"
   ]
  },
  {
   "cell_type": "markdown",
   "id": "6578e552-430e-4545-891a-fdceaef64947",
   "metadata": {},
   "source": [
    "# Preprocessing ca_law_enforcement_by_county.csv"
   ]
  },
  {
   "cell_type": "code",
   "execution_count": 53,
   "id": "823e1d74-0d73-4453-b525-a6b385427d4e",
   "metadata": {},
   "outputs": [
    {
     "name": "stdout",
     "output_type": "stream",
     "text": [
      "'data.frame':\t58 obs. of  5 variables:\n",
      " $ Metropolitan.Nonmetropolitan   : chr  \"Metropolitan Counties\" \"Metropolitan Counties\" \"Metropolitan Counties\" \"Metropolitan Counties\" ...\n",
      " $ County                         : chr  \"Alameda\" \"Butte\" \"Contra Costa\" \"El Dorado\" ...\n",
      " $ Total.law.enforcement.employees: num  1560 288 936 349 1043 ...\n",
      " $ Total.officers                 : num  978 101 610 164 406 ...\n",
      " $ Total.civilians                : num  582 187 326 185 637 ...\n"
     ]
    }
   ],
   "source": [
    "law_county$Total.law.enforcement.employees <- as.numeric(gsub(\",\", \"\", law_county$Total.law.enforcement.employees))\n",
    "law_county$Total.officers <- as.numeric(gsub(\",\",\"\",law_county$Total.officers))\n",
    "law_county$Total.civilians <- as.numeric(gsub(\",\",\"\",law_county$Total.civilians))\n",
    "str(law_county)"
   ]
  },
  {
   "cell_type": "code",
   "execution_count": 55,
   "id": "7ec3e7fd-9836-4093-b061-615cb19060af",
   "metadata": {},
   "outputs": [
    {
     "data": {
      "text/html": [
       "<style>\n",
       ".dl-inline {width: auto; margin:0; padding: 0}\n",
       ".dl-inline>dt, .dl-inline>dd {float: none; width: auto; display: inline-block}\n",
       ".dl-inline>dt::after {content: \":\\0020\"; padding-right: .5ex}\n",
       ".dl-inline>dt:not(:first-of-type) {padding-left: .5ex}\n",
       "</style><dl class=dl-inline><dt>Metropolitan.Nonmetropolitan</dt><dd>0</dd><dt>County</dt><dd>0</dd><dt>Total.law.enforcement.employees</dt><dd>0</dd><dt>Total.officers</dt><dd>0</dd><dt>Total.civilians</dt><dd>0</dd></dl>\n"
      ],
      "text/latex": [
       "\\begin{description*}\n",
       "\\item[Metropolitan.Nonmetropolitan] 0\n",
       "\\item[County] 0\n",
       "\\item[Total.law.enforcement.employees] 0\n",
       "\\item[Total.officers] 0\n",
       "\\item[Total.civilians] 0\n",
       "\\end{description*}\n"
      ],
      "text/markdown": [
       "Metropolitan.Nonmetropolitan\n",
       ":   0County\n",
       ":   0Total.law.enforcement.employees\n",
       ":   0Total.officers\n",
       ":   0Total.civilians\n",
       ":   0\n",
       "\n"
      ],
      "text/plain": [
       "   Metropolitan.Nonmetropolitan                          County \n",
       "                              0                               0 \n",
       "Total.law.enforcement.employees                  Total.officers \n",
       "                              0                               0 \n",
       "                Total.civilians \n",
       "                              0 "
      ]
     },
     "metadata": {},
     "output_type": "display_data"
    }
   ],
   "source": [
    "#Checking missing values\n",
    "colSums(is.na(law_county))"
   ]
  },
  {
   "cell_type": "markdown",
   "id": "bc3ed288-1506-41e8-a0ba-5d40f2b283d5",
   "metadata": {},
   "source": [
    "# Preprocessing ca_offenses_by_city.csv"
   ]
  },
  {
   "cell_type": "code",
   "execution_count": 58,
   "id": "e2256f55-1b7a-4fb0-98a1-44c4ffe60da0",
   "metadata": {},
   "outputs": [
    {
     "name": "stdout",
     "output_type": "stream",
     "text": [
      "'data.frame':\t460 obs. of  13 variables:\n",
      " $ City                                : chr  \"Adelanto\" \"Agoura Hills\" \"Alameda\" \"Albany\" ...\n",
      " $ Population                          : num  33005 20970 78613 19723 86175 ...\n",
      " $ Violent.crime                       : num  212 15 148 34 168 ...\n",
      " $ Murder.and.nonnegligent.manslaughter: int  2 0 2 1 1 0 0 1 18 0 ...\n",
      " $ Rape..revised.definition.           : num  14 1 7 6 13 5 13 7 129 4 ...\n",
      " $ Rape..legacy.definition.            : logi  NA NA NA NA NA NA ...\n",
      " $ Robbery                             : num  48 6 61 16 74 3 2 21 439 9 ...\n",
      " $ Aggravated.assault                  : num  148 8 78 11 80 24 20 29 685 75 ...\n",
      " $ Property.crime                      : num  808 310 1819 605 1929 ...\n",
      " $ Burglary                            : num  434 82 228 95 305 ...\n",
      " $ Larceny.theft                       : num  254 217 1245 447 1413 ...\n",
      " $ Motor.vehicle.theft                 : num  120 11 346 63 211 ...\n",
      " $ Arson                               : num  24 0 18 0 6 1 4 2 28 2 ...\n"
     ]
    }
   ],
   "source": [
    "#Change chr type to num\n",
    "offenses_city$Population <- as.numeric(gsub(\",\", \"\",offenses_city$Population))\n",
    "offenses_city$Violent.crime <- as.numeric(gsub(\",\", \"\",offenses_city$Violent.crime))\n",
    "offenses_city$Rape..revised.definition. <- as.numeric(gsub(\",\", \"\",offenses_city$Rape..revised.definition.))\n",
    "offenses_city$Robbery <- as.numeric(gsub(\",\", \"\",offenses_city$Robbery))\n",
    "offenses_city$Aggravated.assault <- as.numeric(gsub(\",\", \"\",offenses_city$Aggravated.assault))\n",
    "offenses_city$Property.crime <- as.numeric(gsub(\",\", \"\",offenses_city$Property.crime))\n",
    "offenses_city$Burglary <- as.numeric(gsub(\",\", \"\",offenses_city$Burglary))\n",
    "offenses_city$Larceny.theft <- as.numeric(gsub(\",\", \"\",offenses_city$Larceny.theft))\n",
    "offenses_city$Motor.vehicle.theft <- as.numeric(gsub(\",\", \"\",offenses_city$Motor.vehicle.theft))\n",
    "offenses_city$Arson <- as.numeric(gsub(\",\", \"\",offenses_city$Arson))\n",
    "str(offenses_city)"
   ]
  },
  {
   "cell_type": "code",
   "execution_count": 60,
   "id": "85b5bd6b-db2e-4ffa-9fd2-9e07cee920e2",
   "metadata": {},
   "outputs": [
    {
     "data": {
      "text/html": [
       "<style>\n",
       ".dl-inline {width: auto; margin:0; padding: 0}\n",
       ".dl-inline>dt, .dl-inline>dd {float: none; width: auto; display: inline-block}\n",
       ".dl-inline>dt::after {content: \":\\0020\"; padding-right: .5ex}\n",
       ".dl-inline>dt:not(:first-of-type) {padding-left: .5ex}\n",
       "</style><dl class=dl-inline><dt>City</dt><dd>0</dd><dt>Population</dt><dd>0</dd><dt>Violent.crime</dt><dd>0</dd><dt>Murder.and.nonnegligent.manslaughter</dt><dd>0</dd><dt>Rape..revised.definition.</dt><dd>0</dd><dt>Rape..legacy.definition.</dt><dd>460</dd><dt>Robbery</dt><dd>0</dd><dt>Aggravated.assault</dt><dd>0</dd><dt>Property.crime</dt><dd>0</dd><dt>Burglary</dt><dd>0</dd><dt>Larceny.theft</dt><dd>0</dd><dt>Motor.vehicle.theft</dt><dd>0</dd><dt>Arson</dt><dd>0</dd></dl>\n"
      ],
      "text/latex": [
       "\\begin{description*}\n",
       "\\item[City] 0\n",
       "\\item[Population] 0\n",
       "\\item[Violent.crime] 0\n",
       "\\item[Murder.and.nonnegligent.manslaughter] 0\n",
       "\\item[Rape..revised.definition.] 0\n",
       "\\item[Rape..legacy.definition.] 460\n",
       "\\item[Robbery] 0\n",
       "\\item[Aggravated.assault] 0\n",
       "\\item[Property.crime] 0\n",
       "\\item[Burglary] 0\n",
       "\\item[Larceny.theft] 0\n",
       "\\item[Motor.vehicle.theft] 0\n",
       "\\item[Arson] 0\n",
       "\\end{description*}\n"
      ],
      "text/markdown": [
       "City\n",
       ":   0Population\n",
       ":   0Violent.crime\n",
       ":   0Murder.and.nonnegligent.manslaughter\n",
       ":   0Rape..revised.definition.\n",
       ":   0Rape..legacy.definition.\n",
       ":   460Robbery\n",
       ":   0Aggravated.assault\n",
       ":   0Property.crime\n",
       ":   0Burglary\n",
       ":   0Larceny.theft\n",
       ":   0Motor.vehicle.theft\n",
       ":   0Arson\n",
       ":   0\n",
       "\n"
      ],
      "text/plain": [
       "                                City                           Population \n",
       "                                   0                                    0 \n",
       "                       Violent.crime Murder.and.nonnegligent.manslaughter \n",
       "                                   0                                    0 \n",
       "           Rape..revised.definition.             Rape..legacy.definition. \n",
       "                                   0                                  460 \n",
       "                             Robbery                   Aggravated.assault \n",
       "                                   0                                    0 \n",
       "                      Property.crime                             Burglary \n",
       "                                   0                                    0 \n",
       "                       Larceny.theft                  Motor.vehicle.theft \n",
       "                                   0                                    0 \n",
       "                               Arson \n",
       "                                   0 "
      ]
     },
     "metadata": {},
     "output_type": "display_data"
    },
    {
     "data": {
      "text/html": [
       "<table class=\"dataframe\">\n",
       "<caption>A data.frame: 6 × 12</caption>\n",
       "<thead>\n",
       "\t<tr><th></th><th scope=col>City</th><th scope=col>Population</th><th scope=col>Violent.crime</th><th scope=col>Murder.and.nonnegligent.manslaughter</th><th scope=col>Rape..revised.definition.</th><th scope=col>Robbery</th><th scope=col>Aggravated.assault</th><th scope=col>Property.crime</th><th scope=col>Burglary</th><th scope=col>Larceny.theft</th><th scope=col>Motor.vehicle.theft</th><th scope=col>Arson</th></tr>\n",
       "\t<tr><th></th><th scope=col>&lt;chr&gt;</th><th scope=col>&lt;dbl&gt;</th><th scope=col>&lt;dbl&gt;</th><th scope=col>&lt;int&gt;</th><th scope=col>&lt;dbl&gt;</th><th scope=col>&lt;dbl&gt;</th><th scope=col>&lt;dbl&gt;</th><th scope=col>&lt;dbl&gt;</th><th scope=col>&lt;dbl&gt;</th><th scope=col>&lt;dbl&gt;</th><th scope=col>&lt;dbl&gt;</th><th scope=col>&lt;dbl&gt;</th></tr>\n",
       "</thead>\n",
       "<tbody>\n",
       "\t<tr><th scope=row>1</th><td>Adelanto    </td><td>33005</td><td>212</td><td>2</td><td>14</td><td>48</td><td>148</td><td> 808</td><td>434</td><td> 254</td><td>120</td><td>24</td></tr>\n",
       "\t<tr><th scope=row>2</th><td>Agoura Hills</td><td>20970</td><td> 15</td><td>0</td><td> 1</td><td> 6</td><td>  8</td><td> 310</td><td> 82</td><td> 217</td><td> 11</td><td> 0</td></tr>\n",
       "\t<tr><th scope=row>3</th><td>Alameda     </td><td>78613</td><td>148</td><td>2</td><td> 7</td><td>61</td><td> 78</td><td>1819</td><td>228</td><td>1245</td><td>346</td><td>18</td></tr>\n",
       "\t<tr><th scope=row>4</th><td>Albany      </td><td>19723</td><td> 34</td><td>1</td><td> 6</td><td>16</td><td> 11</td><td> 605</td><td> 95</td><td> 447</td><td> 63</td><td> 0</td></tr>\n",
       "\t<tr><th scope=row>5</th><td>Alhambra3   </td><td>86175</td><td>168</td><td>1</td><td>13</td><td>74</td><td> 80</td><td>1929</td><td>305</td><td>1413</td><td>211</td><td> 6</td></tr>\n",
       "\t<tr><th scope=row>6</th><td>Aliso Viejo </td><td>50751</td><td> 32</td><td>0</td><td> 5</td><td> 3</td><td> 24</td><td> 363</td><td> 53</td><td> 276</td><td> 34</td><td> 1</td></tr>\n",
       "</tbody>\n",
       "</table>\n"
      ],
      "text/latex": [
       "A data.frame: 6 × 12\n",
       "\\begin{tabular}{r|llllllllllll}\n",
       "  & City & Population & Violent.crime & Murder.and.nonnegligent.manslaughter & Rape..revised.definition. & Robbery & Aggravated.assault & Property.crime & Burglary & Larceny.theft & Motor.vehicle.theft & Arson\\\\\n",
       "  & <chr> & <dbl> & <dbl> & <int> & <dbl> & <dbl> & <dbl> & <dbl> & <dbl> & <dbl> & <dbl> & <dbl>\\\\\n",
       "\\hline\n",
       "\t1 & Adelanto     & 33005 & 212 & 2 & 14 & 48 & 148 &  808 & 434 &  254 & 120 & 24\\\\\n",
       "\t2 & Agoura Hills & 20970 &  15 & 0 &  1 &  6 &   8 &  310 &  82 &  217 &  11 &  0\\\\\n",
       "\t3 & Alameda      & 78613 & 148 & 2 &  7 & 61 &  78 & 1819 & 228 & 1245 & 346 & 18\\\\\n",
       "\t4 & Albany       & 19723 &  34 & 1 &  6 & 16 &  11 &  605 &  95 &  447 &  63 &  0\\\\\n",
       "\t5 & Alhambra3    & 86175 & 168 & 1 & 13 & 74 &  80 & 1929 & 305 & 1413 & 211 &  6\\\\\n",
       "\t6 & Aliso Viejo  & 50751 &  32 & 0 &  5 &  3 &  24 &  363 &  53 &  276 &  34 &  1\\\\\n",
       "\\end{tabular}\n"
      ],
      "text/markdown": [
       "\n",
       "A data.frame: 6 × 12\n",
       "\n",
       "| <!--/--> | City &lt;chr&gt; | Population &lt;dbl&gt; | Violent.crime &lt;dbl&gt; | Murder.and.nonnegligent.manslaughter &lt;int&gt; | Rape..revised.definition. &lt;dbl&gt; | Robbery &lt;dbl&gt; | Aggravated.assault &lt;dbl&gt; | Property.crime &lt;dbl&gt; | Burglary &lt;dbl&gt; | Larceny.theft &lt;dbl&gt; | Motor.vehicle.theft &lt;dbl&gt; | Arson &lt;dbl&gt; |\n",
       "|---|---|---|---|---|---|---|---|---|---|---|---|---|\n",
       "| 1 | Adelanto     | 33005 | 212 | 2 | 14 | 48 | 148 |  808 | 434 |  254 | 120 | 24 |\n",
       "| 2 | Agoura Hills | 20970 |  15 | 0 |  1 |  6 |   8 |  310 |  82 |  217 |  11 |  0 |\n",
       "| 3 | Alameda      | 78613 | 148 | 2 |  7 | 61 |  78 | 1819 | 228 | 1245 | 346 | 18 |\n",
       "| 4 | Albany       | 19723 |  34 | 1 |  6 | 16 |  11 |  605 |  95 |  447 |  63 |  0 |\n",
       "| 5 | Alhambra3    | 86175 | 168 | 1 | 13 | 74 |  80 | 1929 | 305 | 1413 | 211 |  6 |\n",
       "| 6 | Aliso Viejo  | 50751 |  32 | 0 |  5 |  3 |  24 |  363 |  53 |  276 |  34 |  1 |\n",
       "\n"
      ],
      "text/plain": [
       "  City         Population Violent.crime Murder.and.nonnegligent.manslaughter\n",
       "1 Adelanto     33005      212           2                                   \n",
       "2 Agoura Hills 20970       15           0                                   \n",
       "3 Alameda      78613      148           2                                   \n",
       "4 Albany       19723       34           1                                   \n",
       "5 Alhambra3    86175      168           1                                   \n",
       "6 Aliso Viejo  50751       32           0                                   \n",
       "  Rape..revised.definition. Robbery Aggravated.assault Property.crime Burglary\n",
       "1 14                        48      148                 808           434     \n",
       "2  1                         6        8                 310            82     \n",
       "3  7                        61       78                1819           228     \n",
       "4  6                        16       11                 605            95     \n",
       "5 13                        74       80                1929           305     \n",
       "6  5                         3       24                 363            53     \n",
       "  Larceny.theft Motor.vehicle.theft Arson\n",
       "1  254          120                 24   \n",
       "2  217           11                  0   \n",
       "3 1245          346                 18   \n",
       "4  447           63                  0   \n",
       "5 1413          211                  6   \n",
       "6  276           34                  1   "
      ]
     },
     "metadata": {},
     "output_type": "display_data"
    }
   ],
   "source": [
    "colSums(is.na(offenses_city))\n",
    "#Rape..legacy.definition. attribute has 460 NA values, so we delete it.\n",
    "offenses_city <- offenses_city[,-6]\n",
    "head(offenses_city)"
   ]
  },
  {
   "cell_type": "markdown",
   "id": "14507ae5-24ae-41d3-8375-a0c404e7dada",
   "metadata": {},
   "source": [
    "# Preprocessing ca_offenses_by_county.csv"
   ]
  },
  {
   "cell_type": "code",
   "execution_count": 145,
   "id": "929845d3-c755-4685-80da-a0d16e4bcb5f",
   "metadata": {},
   "outputs": [
    {
     "data": {
      "text/html": [
       "<style>\n",
       ".dl-inline {width: auto; margin:0; padding: 0}\n",
       ".dl-inline>dt, .dl-inline>dd {float: none; width: auto; display: inline-block}\n",
       ".dl-inline>dt::after {content: \":\\0020\"; padding-right: .5ex}\n",
       ".dl-inline>dt:not(:first-of-type) {padding-left: .5ex}\n",
       "</style><dl class=dl-inline><dt>Metropolitan.Nonmetropolitan</dt><dd>0</dd><dt>County</dt><dd>0</dd><dt>Violent.crime</dt><dd>0</dd><dt>Murder.and.nonnegligent.manslaughter</dt><dd>0</dd><dt>Rape..revised.definition.</dt><dd>0</dd><dt>Robbery</dt><dd>0</dd><dt>Aggravated.assault</dt><dd>0</dd><dt>Property.crime</dt><dd>0</dd><dt>Burglary</dt><dd>0</dd><dt>Larceny.theft</dt><dd>0</dd><dt>Motor.vehicle.theft</dt><dd>0</dd><dt>Arson</dt><dd>0</dd><dt>sum_crimes</dt><dd>0</dd></dl>\n"
      ],
      "text/latex": [
       "\\begin{description*}\n",
       "\\item[Metropolitan.Nonmetropolitan] 0\n",
       "\\item[County] 0\n",
       "\\item[Violent.crime] 0\n",
       "\\item[Murder.and.nonnegligent.manslaughter] 0\n",
       "\\item[Rape..revised.definition.] 0\n",
       "\\item[Robbery] 0\n",
       "\\item[Aggravated.assault] 0\n",
       "\\item[Property.crime] 0\n",
       "\\item[Burglary] 0\n",
       "\\item[Larceny.theft] 0\n",
       "\\item[Motor.vehicle.theft] 0\n",
       "\\item[Arson] 0\n",
       "\\item[sum\\textbackslash{}\\_crimes] 0\n",
       "\\end{description*}\n"
      ],
      "text/markdown": [
       "Metropolitan.Nonmetropolitan\n",
       ":   0County\n",
       ":   0Violent.crime\n",
       ":   0Murder.and.nonnegligent.manslaughter\n",
       ":   0Rape..revised.definition.\n",
       ":   0Robbery\n",
       ":   0Aggravated.assault\n",
       ":   0Property.crime\n",
       ":   0Burglary\n",
       ":   0Larceny.theft\n",
       ":   0Motor.vehicle.theft\n",
       ":   0Arson\n",
       ":   0sum_crimes\n",
       ":   0\n",
       "\n"
      ],
      "text/plain": [
       "        Metropolitan.Nonmetropolitan                               County \n",
       "                                   0                                    0 \n",
       "                       Violent.crime Murder.and.nonnegligent.manslaughter \n",
       "                                   0                                    0 \n",
       "           Rape..revised.definition.                              Robbery \n",
       "                                   0                                    0 \n",
       "                  Aggravated.assault                       Property.crime \n",
       "                                   0                                    0 \n",
       "                            Burglary                        Larceny.theft \n",
       "                                   0                                    0 \n",
       "                 Motor.vehicle.theft                                Arson \n",
       "                                   0                                    0 \n",
       "                          sum_crimes \n",
       "                                   0 "
      ]
     },
     "metadata": {},
     "output_type": "display_data"
    }
   ],
   "source": [
    "#Missing Values\n",
    "offenses_county <- offenses_county[rowSums(is.na(offenses_county)) < ncol(offenses_county), ]\n",
    "colSums(is.na(offenses_county))"
   ]
  },
  {
   "cell_type": "code",
   "execution_count": 65,
   "id": "f148e3ea-4663-4b32-afc0-9eb98fb1b743",
   "metadata": {},
   "outputs": [
    {
     "data": {
      "text/html": [
       "<table class=\"dataframe\">\n",
       "<caption>A data.frame: 6 × 12</caption>\n",
       "<thead>\n",
       "\t<tr><th></th><th scope=col>City</th><th scope=col>Population</th><th scope=col>Violent.crime</th><th scope=col>Murder.and.nonnegligent.manslaughter</th><th scope=col>Rape..revised.definition.</th><th scope=col>Robbery</th><th scope=col>Aggravated.assault</th><th scope=col>Property.crime</th><th scope=col>Burglary</th><th scope=col>Larceny.theft</th><th scope=col>Motor.vehicle.theft</th><th scope=col>Arson</th></tr>\n",
       "\t<tr><th></th><th scope=col>&lt;chr&gt;</th><th scope=col>&lt;dbl&gt;</th><th scope=col>&lt;dbl&gt;</th><th scope=col>&lt;int&gt;</th><th scope=col>&lt;dbl&gt;</th><th scope=col>&lt;dbl&gt;</th><th scope=col>&lt;dbl&gt;</th><th scope=col>&lt;dbl&gt;</th><th scope=col>&lt;dbl&gt;</th><th scope=col>&lt;dbl&gt;</th><th scope=col>&lt;dbl&gt;</th><th scope=col>&lt;dbl&gt;</th></tr>\n",
       "</thead>\n",
       "<tbody>\n",
       "\t<tr><th scope=row>1</th><td>Adelanto    </td><td>33005</td><td>212</td><td>2</td><td>14</td><td>48</td><td>148</td><td> 808</td><td>434</td><td> 254</td><td>120</td><td>24</td></tr>\n",
       "\t<tr><th scope=row>2</th><td>Agoura Hills</td><td>20970</td><td> 15</td><td>0</td><td> 1</td><td> 6</td><td>  8</td><td> 310</td><td> 82</td><td> 217</td><td> 11</td><td> 0</td></tr>\n",
       "\t<tr><th scope=row>3</th><td>Alameda     </td><td>78613</td><td>148</td><td>2</td><td> 7</td><td>61</td><td> 78</td><td>1819</td><td>228</td><td>1245</td><td>346</td><td>18</td></tr>\n",
       "\t<tr><th scope=row>4</th><td>Albany      </td><td>19723</td><td> 34</td><td>1</td><td> 6</td><td>16</td><td> 11</td><td> 605</td><td> 95</td><td> 447</td><td> 63</td><td> 0</td></tr>\n",
       "\t<tr><th scope=row>5</th><td>Alhambra3   </td><td>86175</td><td>168</td><td>1</td><td>13</td><td>74</td><td> 80</td><td>1929</td><td>305</td><td>1413</td><td>211</td><td> 6</td></tr>\n",
       "\t<tr><th scope=row>6</th><td>Aliso Viejo </td><td>50751</td><td> 32</td><td>0</td><td> 5</td><td> 3</td><td> 24</td><td> 363</td><td> 53</td><td> 276</td><td> 34</td><td> 1</td></tr>\n",
       "</tbody>\n",
       "</table>\n"
      ],
      "text/latex": [
       "A data.frame: 6 × 12\n",
       "\\begin{tabular}{r|llllllllllll}\n",
       "  & City & Population & Violent.crime & Murder.and.nonnegligent.manslaughter & Rape..revised.definition. & Robbery & Aggravated.assault & Property.crime & Burglary & Larceny.theft & Motor.vehicle.theft & Arson\\\\\n",
       "  & <chr> & <dbl> & <dbl> & <int> & <dbl> & <dbl> & <dbl> & <dbl> & <dbl> & <dbl> & <dbl> & <dbl>\\\\\n",
       "\\hline\n",
       "\t1 & Adelanto     & 33005 & 212 & 2 & 14 & 48 & 148 &  808 & 434 &  254 & 120 & 24\\\\\n",
       "\t2 & Agoura Hills & 20970 &  15 & 0 &  1 &  6 &   8 &  310 &  82 &  217 &  11 &  0\\\\\n",
       "\t3 & Alameda      & 78613 & 148 & 2 &  7 & 61 &  78 & 1819 & 228 & 1245 & 346 & 18\\\\\n",
       "\t4 & Albany       & 19723 &  34 & 1 &  6 & 16 &  11 &  605 &  95 &  447 &  63 &  0\\\\\n",
       "\t5 & Alhambra3    & 86175 & 168 & 1 & 13 & 74 &  80 & 1929 & 305 & 1413 & 211 &  6\\\\\n",
       "\t6 & Aliso Viejo  & 50751 &  32 & 0 &  5 &  3 &  24 &  363 &  53 &  276 &  34 &  1\\\\\n",
       "\\end{tabular}\n"
      ],
      "text/markdown": [
       "\n",
       "A data.frame: 6 × 12\n",
       "\n",
       "| <!--/--> | City &lt;chr&gt; | Population &lt;dbl&gt; | Violent.crime &lt;dbl&gt; | Murder.and.nonnegligent.manslaughter &lt;int&gt; | Rape..revised.definition. &lt;dbl&gt; | Robbery &lt;dbl&gt; | Aggravated.assault &lt;dbl&gt; | Property.crime &lt;dbl&gt; | Burglary &lt;dbl&gt; | Larceny.theft &lt;dbl&gt; | Motor.vehicle.theft &lt;dbl&gt; | Arson &lt;dbl&gt; |\n",
       "|---|---|---|---|---|---|---|---|---|---|---|---|---|\n",
       "| 1 | Adelanto     | 33005 | 212 | 2 | 14 | 48 | 148 |  808 | 434 |  254 | 120 | 24 |\n",
       "| 2 | Agoura Hills | 20970 |  15 | 0 |  1 |  6 |   8 |  310 |  82 |  217 |  11 |  0 |\n",
       "| 3 | Alameda      | 78613 | 148 | 2 |  7 | 61 |  78 | 1819 | 228 | 1245 | 346 | 18 |\n",
       "| 4 | Albany       | 19723 |  34 | 1 |  6 | 16 |  11 |  605 |  95 |  447 |  63 |  0 |\n",
       "| 5 | Alhambra3    | 86175 | 168 | 1 | 13 | 74 |  80 | 1929 | 305 | 1413 | 211 |  6 |\n",
       "| 6 | Aliso Viejo  | 50751 |  32 | 0 |  5 |  3 |  24 |  363 |  53 |  276 |  34 |  1 |\n",
       "\n"
      ],
      "text/plain": [
       "  City         Population Violent.crime Murder.and.nonnegligent.manslaughter\n",
       "1 Adelanto     33005      212           2                                   \n",
       "2 Agoura Hills 20970       15           0                                   \n",
       "3 Alameda      78613      148           2                                   \n",
       "4 Albany       19723       34           1                                   \n",
       "5 Alhambra3    86175      168           1                                   \n",
       "6 Aliso Viejo  50751       32           0                                   \n",
       "  Rape..revised.definition. Robbery Aggravated.assault Property.crime Burglary\n",
       "1 14                        48      148                 808           434     \n",
       "2  1                         6        8                 310            82     \n",
       "3  7                        61       78                1819           228     \n",
       "4  6                        16       11                 605            95     \n",
       "5 13                        74       80                1929           305     \n",
       "6  5                         3       24                 363            53     \n",
       "  Larceny.theft Motor.vehicle.theft Arson\n",
       "1  254          120                 24   \n",
       "2  217           11                  0   \n",
       "3 1245          346                 18   \n",
       "4  447           63                  0   \n",
       "5 1413          211                  6   \n",
       "6  276           34                  1   "
      ]
     },
     "metadata": {},
     "output_type": "display_data"
    }
   ],
   "source": [
    "#Rape..legacy.definition. attribute has 57 NA values\n",
    "offenses_county <- offenses_county[,-6]\n",
    "head(offenses_city)"
   ]
  },
  {
   "cell_type": "code",
   "execution_count": 67,
   "id": "74b3a247-9cbf-484d-bc0f-a24a68ed8ef0",
   "metadata": {},
   "outputs": [
    {
     "name": "stdout",
     "output_type": "stream",
     "text": [
      "'data.frame':\t57 obs. of  12 variables:\n",
      " $ Metropolitan.Nonmetropolitan        : chr  \"Metropolitan Counties\" \"Metropolitan Counties\" \"Metropolitan Counties\" \"Metropolitan Counties\" ...\n",
      " $ County                              : chr  \"Alameda\" \"Butte3\" \"Contra Costa\" \"El Dorado3\" ...\n",
      " $ Violent.crime                       : num  510 155 426 252 962 ...\n",
      " $ Murder.and.nonnegligent.manslaughter: num  510 155 426 252 962 ...\n",
      " $ Rape..revised.definition.           : num  13 20 24 46 32 6 157 16 304 18 ...\n",
      " $ Robbery                             : num  177 14 153 32 112 ...\n",
      " $ Aggravated.assault                  : num  314 117 235 165 810 ...\n",
      " $ Property.crime                      : num  2077 1422 2013 2031 3810 ...\n",
      " $ Burglary                            : num  463 708 660 577 1398 ...\n",
      " $ Larceny.theft                       : num  985 693 1332 1412 1838 ...\n",
      " $ Motor.vehicle.theft                 : num  629 21 21 42 574 ...\n",
      " $ Arson                               : num  11 0 18 4 145 21 300 5 215 4 ...\n"
     ]
    }
   ],
   "source": [
    "#chr to num\n",
    "offenses_county$Violent.crime <- as.numeric(gsub(\",\", \"\",offenses_county$Violent.crime))\n",
    "offenses_county$Murder.and.nonnegligent.manslaughter <- as.numeric(gsub(\",\", \"\",offenses_county$Violent.crime))\n",
    "offenses_county$Rape..revised.definition. <- as.numeric(gsub(\",\", \"\",offenses_county$Rape..revised.definition.))\n",
    "offenses_county$Robbery <- as.numeric(gsub(\",\", \"\",offenses_county$Robbery))\n",
    "offenses_county$Aggravated.assault <- as.numeric(gsub(\",\", \"\",offenses_county$Aggravated.assault))\n",
    "offenses_county$Property.crime <- as.numeric(gsub(\",\", \"\",offenses_county$Property.crime))\n",
    "offenses_county$Burglary <- as.numeric(gsub(\",\", \"\",offenses_county$Burglary))\n",
    "offenses_county$Larceny.theft <- as.numeric(gsub(\",\", \"\",offenses_county$Larceny.theft))\n",
    "offenses_county$Motor.vehicle.theft <- as.numeric(gsub(\",\", \"\",offenses_county$Motor.vehicle.theft))\n",
    "offenses_county$Arson <- as.numeric(gsub(\",\", \"\",offenses_county$Arson))\n",
    "str(offenses_county)"
   ]
  },
  {
   "cell_type": "markdown",
   "id": "a65da5d5-4151-4ece-b56e-b866fc6d7351",
   "metadata": {
    "jp-MarkdownHeadingCollapsed": true
   },
   "source": [
    " # Distribution Type in ca_offenses_by_county.csv for Violent Crime attribute"
   ]
  },
  {
   "cell_type": "code",
   "execution_count": 70,
   "id": "91075792-3266-4ac2-aaa6-98a9be6a20d8",
   "metadata": {},
   "outputs": [
    {
     "data": {
      "image/png": "[encoded data removed]",
      "text/plain": [
       "Plot with title \"Histogramm for Violent Crimes by County\""
      ]
     },
     "metadata": {
      "image/png": {
       "height": 420,
       "width": 420
      }
     },
     "output_type": "display_data"
    }
   ],
   "source": [
    "#Histogramm for Violent Crime by county to see Distribution Type\n",
    "#positive skew\n",
    "hist(offenses_county$Violent.crime, main = 'Histogramm for Violent Crimes by County',\n",
    "     xlab = 'Total Crimes',ylab = 'Frequency',col = 'blue', breaks = 3)"
   ]
  },
  {
   "cell_type": "code",
   "execution_count": 72,
   "id": "99923553-d307-49be-98fe-2118b1d51ced",
   "metadata": {},
   "outputs": [
    {
     "data": {
      "text/plain": [
       "\n",
       "\tShapiro-Wilk normality test\n",
       "\n",
       "data:  offenses_county$Violent.crime\n",
       "W = 0.48038, p-value = 6.621e-13\n"
      ]
     },
     "metadata": {},
     "output_type": "display_data"
    }
   ],
   "source": [
    "#Shapiro test\n",
    "#p<0.05, ΝΟΤ normal distribution\n",
    "shapiro.test(offenses_county$Violent.crime)"
   ]
  },
  {
   "cell_type": "markdown",
   "id": "760028a5-6d49-445f-9ca7-b8be9def6d0a",
   "metadata": {},
   "source": [
    "# Distribution Type in ca_offenses_by_city.csv for Population and Violent Crime attributes"
   ]
  },
  {
   "cell_type": "code",
   "execution_count": 153,
   "id": "e3282adc-f72a-4bb0-ab11-b4629f757e99",
   "metadata": {},
   "outputs": [
    {
     "data": {
      "image/png": "[encoded data removed]",
      "text/plain": [
       "Plot with title \"Histogramm Violent Crimes by City\""
      ]
     },
     "metadata": {
      "image/png": {
       "height": 420,
       "width": 420
      }
     },
     "output_type": "display_data"
    }
   ],
   "source": [
    "#Histogramm for Population and Violent Crime attributes\n",
    "par(mfrow = c(1,2))\n",
    "options(scipen = 999)\n",
    "hist(offenses_city$Population, main = 'Histogramm Population by City', \n",
    "     xlab ='Total Crimes',ylab = 'Frequency',col = 'red')\n",
    "#Population attribute has positive skew.\n",
    "hist(offenses_city$Violent.crime, main = 'Histogramm Violent Crimes by City',xlab = 'Total Crimes',\n",
    "     ylab = 'Frequency',col='green')"
   ]
  },
  {
   "cell_type": "markdown",
   "id": "8b5a50c2-152e-4981-9447-6e69ba0fcc8f",
   "metadata": {},
   "source": [
    "# Spatial Analysis - Map displaying the distribution of crimes in California"
   ]
  },
  {
   "cell_type": "code",
   "execution_count": 82,
   "id": "0c27b49e-1f48-4631-b2bf-2648e97727e5",
   "metadata": {},
   "outputs": [
    {
     "data": {
      "text/html": [
       "<table class=\"dataframe\">\n",
       "<caption>A data.frame: 6 × 13</caption>\n",
       "<thead>\n",
       "\t<tr><th></th><th scope=col>Metropolitan.Nonmetropolitan</th><th scope=col>County</th><th scope=col>Violent.crime</th><th scope=col>Murder.and.nonnegligent.manslaughter</th><th scope=col>Rape..revised.definition.</th><th scope=col>Robbery</th><th scope=col>Aggravated.assault</th><th scope=col>Property.crime</th><th scope=col>Burglary</th><th scope=col>Larceny.theft</th><th scope=col>Motor.vehicle.theft</th><th scope=col>Arson</th><th scope=col>sum_crimes</th></tr>\n",
       "\t<tr><th></th><th scope=col>&lt;chr&gt;</th><th scope=col>&lt;chr&gt;</th><th scope=col>&lt;dbl&gt;</th><th scope=col>&lt;dbl&gt;</th><th scope=col>&lt;dbl&gt;</th><th scope=col>&lt;dbl&gt;</th><th scope=col>&lt;dbl&gt;</th><th scope=col>&lt;dbl&gt;</th><th scope=col>&lt;dbl&gt;</th><th scope=col>&lt;dbl&gt;</th><th scope=col>&lt;dbl&gt;</th><th scope=col>&lt;dbl&gt;</th><th scope=col>&lt;dbl&gt;</th></tr>\n",
       "</thead>\n",
       "<tbody>\n",
       "\t<tr><th scope=row>1</th><td>Metropolitan Counties</td><td>Alameda     </td><td>510</td><td>510</td><td>13</td><td>177</td><td>314</td><td>2077</td><td> 463</td><td> 985</td><td>629</td><td> 11</td><td>11378</td></tr>\n",
       "\t<tr><th scope=row>2</th><td>Metropolitan Counties</td><td>Butte3      </td><td>155</td><td>155</td><td>20</td><td> 14</td><td>117</td><td>1422</td><td> 708</td><td> 693</td><td> 21</td><td>  0</td><td> 6610</td></tr>\n",
       "\t<tr><th scope=row>3</th><td>Metropolitan Counties</td><td>Contra Costa</td><td>426</td><td>426</td><td>24</td><td>153</td><td>235</td><td>2013</td><td> 660</td><td>1332</td><td> 21</td><td> 18</td><td>10616</td></tr>\n",
       "\t<tr><th scope=row>4</th><td>Metropolitan Counties</td><td>El Dorado3  </td><td>252</td><td>252</td><td>46</td><td> 32</td><td>165</td><td>2031</td><td> 577</td><td>1412</td><td> 42</td><td>  4</td><td> 9626</td></tr>\n",
       "\t<tr><th scope=row>5</th><td>Metropolitan Counties</td><td>Fresno      </td><td>962</td><td>962</td><td>32</td><td>112</td><td>810</td><td>3810</td><td>1398</td><td>1838</td><td>574</td><td>145</td><td>21286</td></tr>\n",
       "\t<tr><th scope=row>6</th><td>Metropolitan Counties</td><td>Imperial3   </td><td>219</td><td>219</td><td> 6</td><td>  7</td><td>206</td><td> 625</td><td> 202</td><td> 395</td><td> 28</td><td> 21</td><td> 3856</td></tr>\n",
       "</tbody>\n",
       "</table>\n"
      ],
      "text/latex": [
       "A data.frame: 6 × 13\n",
       "\\begin{tabular}{r|lllllllllllll}\n",
       "  & Metropolitan.Nonmetropolitan & County & Violent.crime & Murder.and.nonnegligent.manslaughter & Rape..revised.definition. & Robbery & Aggravated.assault & Property.crime & Burglary & Larceny.theft & Motor.vehicle.theft & Arson & sum\\_crimes\\\\\n",
       "  & <chr> & <chr> & <dbl> & <dbl> & <dbl> & <dbl> & <dbl> & <dbl> & <dbl> & <dbl> & <dbl> & <dbl> & <dbl>\\\\\n",
       "\\hline\n",
       "\t1 & Metropolitan Counties & Alameda      & 510 & 510 & 13 & 177 & 314 & 2077 &  463 &  985 & 629 &  11 & 11378\\\\\n",
       "\t2 & Metropolitan Counties & Butte3       & 155 & 155 & 20 &  14 & 117 & 1422 &  708 &  693 &  21 &   0 &  6610\\\\\n",
       "\t3 & Metropolitan Counties & Contra Costa & 426 & 426 & 24 & 153 & 235 & 2013 &  660 & 1332 &  21 &  18 & 10616\\\\\n",
       "\t4 & Metropolitan Counties & El Dorado3   & 252 & 252 & 46 &  32 & 165 & 2031 &  577 & 1412 &  42 &   4 &  9626\\\\\n",
       "\t5 & Metropolitan Counties & Fresno       & 962 & 962 & 32 & 112 & 810 & 3810 & 1398 & 1838 & 574 & 145 & 21286\\\\\n",
       "\t6 & Metropolitan Counties & Imperial3    & 219 & 219 &  6 &   7 & 206 &  625 &  202 &  395 &  28 &  21 &  3856\\\\\n",
       "\\end{tabular}\n"
      ],
      "text/markdown": [
       "\n",
       "A data.frame: 6 × 13\n",
       "\n",
       "| <!--/--> | Metropolitan.Nonmetropolitan &lt;chr&gt; | County &lt;chr&gt; | Violent.crime &lt;dbl&gt; | Murder.and.nonnegligent.manslaughter &lt;dbl&gt; | Rape..revised.definition. &lt;dbl&gt; | Robbery &lt;dbl&gt; | Aggravated.assault &lt;dbl&gt; | Property.crime &lt;dbl&gt; | Burglary &lt;dbl&gt; | Larceny.theft &lt;dbl&gt; | Motor.vehicle.theft &lt;dbl&gt; | Arson &lt;dbl&gt; | sum_crimes &lt;dbl&gt; |\n",
       "|---|---|---|---|---|---|---|---|---|---|---|---|---|---|\n",
       "| 1 | Metropolitan Counties | Alameda      | 510 | 510 | 13 | 177 | 314 | 2077 |  463 |  985 | 629 |  11 | 11378 |\n",
       "| 2 | Metropolitan Counties | Butte3       | 155 | 155 | 20 |  14 | 117 | 1422 |  708 |  693 |  21 |   0 |  6610 |\n",
       "| 3 | Metropolitan Counties | Contra Costa | 426 | 426 | 24 | 153 | 235 | 2013 |  660 | 1332 |  21 |  18 | 10616 |\n",
       "| 4 | Metropolitan Counties | El Dorado3   | 252 | 252 | 46 |  32 | 165 | 2031 |  577 | 1412 |  42 |   4 |  9626 |\n",
       "| 5 | Metropolitan Counties | Fresno       | 962 | 962 | 32 | 112 | 810 | 3810 | 1398 | 1838 | 574 | 145 | 21286 |\n",
       "| 6 | Metropolitan Counties | Imperial3    | 219 | 219 |  6 |   7 | 206 |  625 |  202 |  395 |  28 |  21 |  3856 |\n",
       "\n"
      ],
      "text/plain": [
       "  Metropolitan.Nonmetropolitan County       Violent.crime\n",
       "1 Metropolitan Counties        Alameda      510          \n",
       "2 Metropolitan Counties        Butte3       155          \n",
       "3 Metropolitan Counties        Contra Costa 426          \n",
       "4 Metropolitan Counties        El Dorado3   252          \n",
       "5 Metropolitan Counties        Fresno       962          \n",
       "6 Metropolitan Counties        Imperial3    219          \n",
       "  Murder.and.nonnegligent.manslaughter Rape..revised.definition. Robbery\n",
       "1 510                                  13                        177    \n",
       "2 155                                  20                         14    \n",
       "3 426                                  24                        153    \n",
       "4 252                                  46                         32    \n",
       "5 962                                  32                        112    \n",
       "6 219                                   6                          7    \n",
       "  Aggravated.assault Property.crime Burglary Larceny.theft Motor.vehicle.theft\n",
       "1 314                2077            463      985          629                \n",
       "2 117                1422            708      693           21                \n",
       "3 235                2013            660     1332           21                \n",
       "4 165                2031            577     1412           42                \n",
       "5 810                3810           1398     1838          574                \n",
       "6 206                 625            202      395           28                \n",
       "  Arson sum_crimes\n",
       "1  11   11378     \n",
       "2   0    6610     \n",
       "3  18   10616     \n",
       "4   4    9626     \n",
       "5 145   21286     \n",
       "6  21    3856     "
      ]
     },
     "metadata": {},
     "output_type": "display_data"
    }
   ],
   "source": [
    "#Only attributes with crimes\n",
    "offenses_county$sum_crimes <- rowSums(offenses_county[,c(-1,-2)])\n",
    "head(offenses_county)"
   ]
  },
  {
   "cell_type": "code",
   "execution_count": 105,
   "id": "14403d98-a7d8-4e69-8098-d647564dcfc9",
   "metadata": {
    "collapsed": true,
    "jupyter": {
     "outputs_hidden": true
    }
   },
   "outputs": [
    {
     "name": "stderr",
     "output_type": "stream",
     "text": [
      "Retrieving data for the year 2024\n",
      "\n",
      "ERROR while rich displaying an object: Error in loadNamespace(x): there is no package called 'geojsonio'\n",
      "\n",
      "Traceback:\n",
      "1. sapply(x, f, simplify = simplify)\n",
      "2. lapply(X = X, FUN = FUN, ...)\n",
      "3. FUN(X[[i]], ...)\n",
      "4. tryCatch(withCallingHandlers({\n",
      " .     if (!mime %in% names(repr::mime2repr)) \n",
      " .         stop(\"No repr_* for mimetype \", mime, \" in repr::mime2repr\")\n",
      " .     rpr <- repr::mime2repr[[mime]](obj)\n",
      " .     if (is.null(rpr)) \n",
      " .         return(NULL)\n",
      " .     prepare_content(is.raw(rpr), rpr)\n",
      " . }, error = error_handler), error = outer_handler)\n",
      "5. tryCatchList(expr, classes, parentenv, handlers)\n",
      "6. tryCatchOne(expr, names, parentenv, handlers[[1L]])\n",
      "7. doTryCatch(return(expr), name, parentenv, handler)\n",
      "8. withCallingHandlers({\n",
      " .     if (!mime %in% names(repr::mime2repr)) \n",
      " .         stop(\"No repr_* for mimetype \", mime, \" in repr::mime2repr\")\n",
      " .     rpr <- repr::mime2repr[[mime]](obj)\n",
      " .     if (is.null(rpr)) \n",
      " .         return(NULL)\n",
      " .     prepare_content(is.raw(rpr), rpr)\n",
      " . }, error = error_handler)\n",
      "9. repr::mime2repr[[mime]](obj)\n",
      "10. repr_geojson.sf(obj)\n",
      "11. repr_geojson(geojsonio::geojson_list(obj), ...)\n",
      "12. loadNamespace(x)\n",
      "13. withRestarts(stop(cond), retry_loadNamespace = function() NULL)\n",
      "14. withOneRestart(expr, restarts[[1L]])\n",
      "15. doWithOneRestart(return(expr), restart)\n"
     ]
    },
    {
     "data": {
      "text/html": [
       "<table class=\"dataframe\">\n",
       "<caption>A sf: 6 × 13</caption>\n",
       "<thead>\n",
       "\t<tr><th></th><th scope=col>STATEFP</th><th scope=col>COUNTYFP</th><th scope=col>COUNTYNS</th><th scope=col>GEOIDFQ</th><th scope=col>GEOID</th><th scope=col>NAME</th><th scope=col>NAMELSAD</th><th scope=col>STUSPS</th><th scope=col>STATE_NAME</th><th scope=col>LSAD</th><th scope=col>ALAND</th><th scope=col>AWATER</th><th scope=col>geometry</th></tr>\n",
       "\t<tr><th></th><th scope=col>&lt;chr&gt;</th><th scope=col>&lt;chr&gt;</th><th scope=col>&lt;chr&gt;</th><th scope=col>&lt;chr&gt;</th><th scope=col>&lt;chr&gt;</th><th scope=col>&lt;chr&gt;</th><th scope=col>&lt;chr&gt;</th><th scope=col>&lt;chr&gt;</th><th scope=col>&lt;chr&gt;</th><th scope=col>&lt;chr&gt;</th><th scope=col>&lt;dbl&gt;</th><th scope=col>&lt;dbl&gt;</th><th scope=col>&lt;MULTIPOLYGON [°]&gt;</th></tr>\n",
       "</thead>\n",
       "<tbody>\n",
       "\t<tr><th scope=row>12</th><td>06</td><td>079</td><td>00277304</td><td>0500000US06079</td><td>06079</td><td>San Luis Obispo</td><td>San Luis Obispo County</td><td>CA</td><td>California</td><td>06</td><td> 8549140866</td><td>815650229</td><td>MULTIPOLYGON (((-121.3464 3...</td></tr>\n",
       "\t<tr><th scope=row>13</th><td>06</td><td>081</td><td>00277305</td><td>0500000US06081</td><td>06081</td><td>San Mateo      </td><td>San Mateo County      </td><td>CA</td><td>California</td><td>06</td><td> 1161921071</td><td>757163219</td><td>MULTIPOLYGON (((-122.5209 3...</td></tr>\n",
       "\t<tr><th scope=row>14</th><td>06</td><td>091</td><td>00277310</td><td>0500000US06091</td><td>06091</td><td>Sierra         </td><td>Sierra County         </td><td>CA</td><td>California</td><td>06</td><td> 2468694578</td><td> 23299110</td><td>MULTIPOLYGON (((-121.0575 3...</td></tr>\n",
       "\t<tr><th scope=row>34</th><td>06</td><td>067</td><td>00277298</td><td>0500000US06067</td><td>06067</td><td>Sacramento     </td><td>Sacramento County     </td><td>CA</td><td>California</td><td>06</td><td> 2500063005</td><td> 75323439</td><td>MULTIPOLYGON (((-121.8625 3...</td></tr>\n",
       "\t<tr><th scope=row>36</th><td>06</td><td>107</td><td>00277318</td><td>0500000US06107</td><td>06107</td><td>Tulare         </td><td>Tulare County         </td><td>CA</td><td>California</td><td>06</td><td>12493843650</td><td> 37260863</td><td>MULTIPOLYGON (((-119.5665 3...</td></tr>\n",
       "\t<tr><th scope=row>37</th><td>06</td><td>069</td><td>00277299</td><td>0500000US06069</td><td>06069</td><td>San Benito     </td><td>San Benito County     </td><td>CA</td><td>California</td><td>06</td><td> 3596591087</td><td>  4719300</td><td>MULTIPOLYGON (((-121.644 36...</td></tr>\n",
       "</tbody>\n",
       "</table>\n"
      ],
      "text/latex": [
       "A sf: 6 × 13\n",
       "\\begin{tabular}{r|lllllllllllll}\n",
       "  & STATEFP & COUNTYFP & COUNTYNS & GEOIDFQ & GEOID & NAME & NAMELSAD & STUSPS & STATE\\_NAME & LSAD & ALAND & AWATER & geometry\\\\\n",
       "  & <chr> & <chr> & <chr> & <chr> & <chr> & <chr> & <chr> & <chr> & <chr> & <chr> & <dbl> & <dbl> & <MULTIPOLYGON {[}°{]}>\\\\\n",
       "\\hline\n",
       "\t12 & 06 & 079 & 00277304 & 0500000US06079 & 06079 & San Luis Obispo & San Luis Obispo County & CA & California & 06 &  8549140866 & 815650229 & MULTIPOLYGON (((-121.3464 3...\\\\\n",
       "\t13 & 06 & 081 & 00277305 & 0500000US06081 & 06081 & San Mateo       & San Mateo County       & CA & California & 06 &  1161921071 & 757163219 & MULTIPOLYGON (((-122.5209 3...\\\\\n",
       "\t14 & 06 & 091 & 00277310 & 0500000US06091 & 06091 & Sierra          & Sierra County          & CA & California & 06 &  2468694578 &  23299110 & MULTIPOLYGON (((-121.0575 3...\\\\\n",
       "\t34 & 06 & 067 & 00277298 & 0500000US06067 & 06067 & Sacramento      & Sacramento County      & CA & California & 06 &  2500063005 &  75323439 & MULTIPOLYGON (((-121.8625 3...\\\\\n",
       "\t36 & 06 & 107 & 00277318 & 0500000US06107 & 06107 & Tulare          & Tulare County          & CA & California & 06 & 12493843650 &  37260863 & MULTIPOLYGON (((-119.5665 3...\\\\\n",
       "\t37 & 06 & 069 & 00277299 & 0500000US06069 & 06069 & San Benito      & San Benito County      & CA & California & 06 &  3596591087 &   4719300 & MULTIPOLYGON (((-121.644 36...\\\\\n",
       "\\end{tabular}\n"
      ],
      "text/markdown": [
       "\n",
       "A sf: 6 × 13\n",
       "\n",
       "| <!--/--> | STATEFP &lt;chr&gt; | COUNTYFP &lt;chr&gt; | COUNTYNS &lt;chr&gt; | GEOIDFQ &lt;chr&gt; | GEOID &lt;chr&gt; | NAME &lt;chr&gt; | NAMELSAD &lt;chr&gt; | STUSPS &lt;chr&gt; | STATE_NAME &lt;chr&gt; | LSAD &lt;chr&gt; | ALAND &lt;dbl&gt; | AWATER &lt;dbl&gt; | geometry &lt;MULTIPOLYGON [°]&gt; |\n",
       "|---|---|---|---|---|---|---|---|---|---|---|---|---|---|\n",
       "| 12 | 06 | 079 | 00277304 | 0500000US06079 | 06079 | San Luis Obispo | San Luis Obispo County | CA | California | 06 |  8549140866 | 815650229 | MULTIPOLYGON (((-121.3464 3... |\n",
       "| 13 | 06 | 081 | 00277305 | 0500000US06081 | 06081 | San Mateo       | San Mateo County       | CA | California | 06 |  1161921071 | 757163219 | MULTIPOLYGON (((-122.5209 3... |\n",
       "| 14 | 06 | 091 | 00277310 | 0500000US06091 | 06091 | Sierra          | Sierra County          | CA | California | 06 |  2468694578 |  23299110 | MULTIPOLYGON (((-121.0575 3... |\n",
       "| 34 | 06 | 067 | 00277298 | 0500000US06067 | 06067 | Sacramento      | Sacramento County      | CA | California | 06 |  2500063005 |  75323439 | MULTIPOLYGON (((-121.8625 3... |\n",
       "| 36 | 06 | 107 | 00277318 | 0500000US06107 | 06107 | Tulare          | Tulare County          | CA | California | 06 | 12493843650 |  37260863 | MULTIPOLYGON (((-119.5665 3... |\n",
       "| 37 | 06 | 069 | 00277299 | 0500000US06069 | 06069 | San Benito      | San Benito County      | CA | California | 06 |  3596591087 |   4719300 | MULTIPOLYGON (((-121.644 36... |\n",
       "\n"
      ],
      "text/plain": [
       "   STATEFP COUNTYFP COUNTYNS GEOIDFQ        GEOID NAME           \n",
       "12 06      079      00277304 0500000US06079 06079 San Luis Obispo\n",
       "13 06      081      00277305 0500000US06081 06081 San Mateo      \n",
       "14 06      091      00277310 0500000US06091 06091 Sierra         \n",
       "34 06      067      00277298 0500000US06067 06067 Sacramento     \n",
       "36 06      107      00277318 0500000US06107 06107 Tulare         \n",
       "37 06      069      00277299 0500000US06069 06069 San Benito     \n",
       "   NAMELSAD               STUSPS STATE_NAME LSAD ALAND       AWATER   \n",
       "12 San Luis Obispo County CA     California 06    8549140866 815650229\n",
       "13 San Mateo County       CA     California 06    1161921071 757163219\n",
       "14 Sierra County          CA     California 06    2468694578  23299110\n",
       "34 Sacramento County      CA     California 06    2500063005  75323439\n",
       "36 Tulare County          CA     California 06   12493843650  37260863\n",
       "37 San Benito County      CA     California 06    3596591087   4719300\n",
       "   geometry                      \n",
       "12 MULTIPOLYGON (((-121.3464 3...\n",
       "13 MULTIPOLYGON (((-122.5209 3...\n",
       "14 MULTIPOLYGON (((-121.0575 3...\n",
       "34 MULTIPOLYGON (((-121.8625 3...\n",
       "36 MULTIPOLYGON (((-119.5665 3...\n",
       "37 MULTIPOLYGON (((-121.644 36..."
      ]
     },
     "metadata": {},
     "output_type": "display_data"
    }
   ],
   "source": [
    "#downlaod spatial data for California \n",
    "map_CA <- counties(state = \"CA\", cb = TRUE, class = 'sf')\n",
    "head(map_CA)"
   ]
  },
  {
   "cell_type": "code",
   "execution_count": null,
   "id": "dbd08911-ce7d-4d2d-b0f0-4ac4a8f48ccb",
   "metadata": {},
   "outputs": [],
   "source": [
    "#Join spatial data with data crimes by county\n",
    "full_map <- left_join (map_CA,offenses_county, by = c(\"NAME\" = \"County\"))\n",
    "head(full_map)"
   ]
  },
  {
   "cell_type": "code",
   "execution_count": 109,
   "id": "ca2d3278-36c9-46bc-bca4-cf095eaa88cf",
   "metadata": {},
   "outputs": [
    {
     "data": {
      "image/png": "[encoded data removed]",
      "text/plain": [
       "plot without title"
      ]
     },
     "metadata": {
      "image/png": {
       "height": 420,
       "width": 420
      }
     },
     "output_type": "display_data"
    }
   ],
   "source": [
    "#Map with Distribution of crimes in California\n",
    "ggplot(full_map) + geom_sf(aes(fill = sum_crimes),color = \"white\") + \n",
    "  labs(title = 'Distribution of Crimes in California by county', fill = 'Total Crimes')"
   ]
  },
  {
   "cell_type": "markdown",
   "id": "682c4ace-7672-47f3-a364-5aff1928f84c",
   "metadata": {},
   "source": [
    "# Bar Plot"
   ]
  },
  {
   "cell_type": "code",
   "execution_count": 111,
   "id": "6a35ea78-2795-42cc-a2c7-0c03d3d39c67",
   "metadata": {},
   "outputs": [
    {
     "data": {
      "text/html": [
       "<style>\n",
       ".dl-inline {width: auto; margin:0; padding: 0}\n",
       ".dl-inline>dt, .dl-inline>dd {float: none; width: auto; display: inline-block}\n",
       ".dl-inline>dt::after {content: \":\\0020\"; padding-right: .5ex}\n",
       ".dl-inline>dt:not(:first-of-type) {padding-left: .5ex}\n",
       "</style><dl class=dl-inline><dt>Violent.crime</dt><dd>24994</dd><dt>Murder.and.nonnegligent.manslaughter</dt><dd>24994</dd><dt>Rape..revised.definition.</dt><dd>1846</dd><dt>Robbery</dt><dd>4658</dd><dt>Aggravated.assault</dt><dd>18113</dd><dt>Property.crime</dt><dd>105500</dd><dt>Burglary</dt><dd>32380</dd><dt>Larceny.theft</dt><dd>60626</dd><dt>Motor.vehicle.theft</dt><dd>12494</dd><dt>Arson</dt><dd>1170</dd></dl>\n"
      ],
      "text/latex": [
       "\\begin{description*}\n",
       "\\item[Violent.crime] 24994\n",
       "\\item[Murder.and.nonnegligent.manslaughter] 24994\n",
       "\\item[Rape..revised.definition.] 1846\n",
       "\\item[Robbery] 4658\n",
       "\\item[Aggravated.assault] 18113\n",
       "\\item[Property.crime] 105500\n",
       "\\item[Burglary] 32380\n",
       "\\item[Larceny.theft] 60626\n",
       "\\item[Motor.vehicle.theft] 12494\n",
       "\\item[Arson] 1170\n",
       "\\end{description*}\n"
      ],
      "text/markdown": [
       "Violent.crime\n",
       ":   24994Murder.and.nonnegligent.manslaughter\n",
       ":   24994Rape..revised.definition.\n",
       ":   1846Robbery\n",
       ":   4658Aggravated.assault\n",
       ":   18113Property.crime\n",
       ":   105500Burglary\n",
       ":   32380Larceny.theft\n",
       ":   60626Motor.vehicle.theft\n",
       ":   12494Arson\n",
       ":   1170\n",
       "\n"
      ],
      "text/plain": [
       "                       Violent.crime Murder.and.nonnegligent.manslaughter \n",
       "                               24994                                24994 \n",
       "           Rape..revised.definition.                              Robbery \n",
       "                                1846                                 4658 \n",
       "                  Aggravated.assault                       Property.crime \n",
       "                               18113                               105500 \n",
       "                            Burglary                        Larceny.theft \n",
       "                               32380                                60626 \n",
       "                 Motor.vehicle.theft                                Arson \n",
       "                               12494                                 1170 "
      ]
     },
     "metadata": {},
     "output_type": "display_data"
    }
   ],
   "source": [
    "total_by_crime  <- colSums(offenses_county[,c(-1,-2,-13)])\n",
    "total_by_crime"
   ]
  },
  {
   "cell_type": "code",
   "execution_count": 117,
   "id": "27302e28-d426-4bd4-a8c2-f45b3665c907",
   "metadata": {},
   "outputs": [
    {
     "data": {
      "text/html": [
       "<table class=\"dataframe\">\n",
       "<caption>A data.frame: 10 × 2</caption>\n",
       "<thead>\n",
       "\t<tr><th></th><th scope=col>Category</th><th scope=col>Total</th></tr>\n",
       "\t<tr><th></th><th scope=col>&lt;chr&gt;</th><th scope=col>&lt;dbl&gt;</th></tr>\n",
       "</thead>\n",
       "<tbody>\n",
       "\t<tr><th scope=row>Violent.crime</th><td>Violent.crime                       </td><td> 24994</td></tr>\n",
       "\t<tr><th scope=row>Murder.and.nonnegligent.manslaughter</th><td>Murder.and.nonnegligent.manslaughter</td><td> 24994</td></tr>\n",
       "\t<tr><th scope=row>Rape..revised.definition.</th><td>Rape..revised.definition.           </td><td>  1846</td></tr>\n",
       "\t<tr><th scope=row>Robbery</th><td>Robbery                             </td><td>  4658</td></tr>\n",
       "\t<tr><th scope=row>Aggravated.assault</th><td>Aggravated.assault                  </td><td> 18113</td></tr>\n",
       "\t<tr><th scope=row>Property.crime</th><td>Property.crime                      </td><td>105500</td></tr>\n",
       "\t<tr><th scope=row>Burglary</th><td>Burglary                            </td><td> 32380</td></tr>\n",
       "\t<tr><th scope=row>Larceny.theft</th><td>Larceny.theft                       </td><td> 60626</td></tr>\n",
       "\t<tr><th scope=row>Motor.vehicle.theft</th><td>Motor.vehicle.theft                 </td><td> 12494</td></tr>\n",
       "\t<tr><th scope=row>Arson</th><td>Arson                               </td><td>  1170</td></tr>\n",
       "</tbody>\n",
       "</table>\n"
      ],
      "text/latex": [
       "A data.frame: 10 × 2\n",
       "\\begin{tabular}{r|ll}\n",
       "  & Category & Total\\\\\n",
       "  & <chr> & <dbl>\\\\\n",
       "\\hline\n",
       "\tViolent.crime & Violent.crime                        &  24994\\\\\n",
       "\tMurder.and.nonnegligent.manslaughter & Murder.and.nonnegligent.manslaughter &  24994\\\\\n",
       "\tRape..revised.definition. & Rape..revised.definition.            &   1846\\\\\n",
       "\tRobbery & Robbery                              &   4658\\\\\n",
       "\tAggravated.assault & Aggravated.assault                   &  18113\\\\\n",
       "\tProperty.crime & Property.crime                       & 105500\\\\\n",
       "\tBurglary & Burglary                             &  32380\\\\\n",
       "\tLarceny.theft & Larceny.theft                        &  60626\\\\\n",
       "\tMotor.vehicle.theft & Motor.vehicle.theft                  &  12494\\\\\n",
       "\tArson & Arson                                &   1170\\\\\n",
       "\\end{tabular}\n"
      ],
      "text/markdown": [
       "\n",
       "A data.frame: 10 × 2\n",
       "\n",
       "| <!--/--> | Category &lt;chr&gt; | Total &lt;dbl&gt; |\n",
       "|---|---|---|\n",
       "| Violent.crime | Violent.crime                        |  24994 |\n",
       "| Murder.and.nonnegligent.manslaughter | Murder.and.nonnegligent.manslaughter |  24994 |\n",
       "| Rape..revised.definition. | Rape..revised.definition.            |   1846 |\n",
       "| Robbery | Robbery                              |   4658 |\n",
       "| Aggravated.assault | Aggravated.assault                   |  18113 |\n",
       "| Property.crime | Property.crime                       | 105500 |\n",
       "| Burglary | Burglary                             |  32380 |\n",
       "| Larceny.theft | Larceny.theft                        |  60626 |\n",
       "| Motor.vehicle.theft | Motor.vehicle.theft                  |  12494 |\n",
       "| Arson | Arson                                |   1170 |\n",
       "\n"
      ],
      "text/plain": [
       "                                     Category                            \n",
       "Violent.crime                        Violent.crime                       \n",
       "Murder.and.nonnegligent.manslaughter Murder.and.nonnegligent.manslaughter\n",
       "Rape..revised.definition.            Rape..revised.definition.           \n",
       "Robbery                              Robbery                             \n",
       "Aggravated.assault                   Aggravated.assault                  \n",
       "Property.crime                       Property.crime                      \n",
       "Burglary                             Burglary                            \n",
       "Larceny.theft                        Larceny.theft                       \n",
       "Motor.vehicle.theft                  Motor.vehicle.theft                 \n",
       "Arson                                Arson                               \n",
       "                                     Total \n",
       "Violent.crime                         24994\n",
       "Murder.and.nonnegligent.manslaughter  24994\n",
       "Rape..revised.definition.              1846\n",
       "Robbery                                4658\n",
       "Aggravated.assault                    18113\n",
       "Property.crime                       105500\n",
       "Burglary                              32380\n",
       "Larceny.theft                         60626\n",
       "Motor.vehicle.theft                   12494\n",
       "Arson                                  1170"
      ]
     },
     "metadata": {},
     "output_type": "display_data"
    }
   ],
   "source": [
    "#Data Frame creation\n",
    "total_by_crime_df <- data.frame(Category = names(total_by_crime),Total = total_by_crime)\n",
    "total_by_crime_df"
   ]
  },
  {
   "cell_type": "code",
   "execution_count": 155,
   "id": "a8facb84-5c8c-4ea5-b62c-4112593d6cd9",
   "metadata": {},
   "outputs": [
    {
     "data": {
      "image/png": "[encoded data removed]",
      "text/plain": [
       "Plot with title \"BarPlot\n",
       "Total Crimes by category\""
      ]
     },
     "metadata": {
      "image/png": {
       "height": 420,
       "width": 420
      }
     },
     "output_type": "display_data"
    }
   ],
   "source": [
    "#Bar plot\n",
    "barplot(total_by_crime_df$Total,names.arg = total_by_crime_df$Category,main = 'BarPlot\\nTotal Crimes by category', \n",
    "        ylab = 'Total Crimes',las=2,col = 'brown', cex.names = 0.8)"
   ]
  },
  {
   "cell_type": "markdown",
   "id": "eb99cd9c-b63e-4332-b628-4d78f44be5a5",
   "metadata": {},
   "source": [
    "# Pie Chart"
   ]
  },
  {
   "cell_type": "code",
   "execution_count": 123,
   "id": "430fd17a-450c-456b-b68f-2c8ceac49291",
   "metadata": {},
   "outputs": [],
   "source": [
    "#percentage\n",
    "pct <- round((total_by_crime_df$Total/sum(total_by_crime_df$Total))*100,2)"
   ]
  },
  {
   "cell_type": "code",
   "execution_count": 129,
   "id": "162020b5-0d2c-46c7-bf38-be9c91253997",
   "metadata": {},
   "outputs": [
    {
     "data": {
      "image/png": "[encoded data removed]",
      "text/plain": [
       "Plot with title \"Pie Chart\n",
       "Total Crimes by category\""
      ]
     },
     "metadata": {
      "image/png": {
       "height": 420,
       "width": 420
      }
     },
     "output_type": "display_data"
    }
   ],
   "source": [
    "#Pie Chart\n",
    "lbls <- total_by_crime_df$Category\n",
    "lbls <- paste(lbls,pct)\n",
    "lbls <- paste(lbls,\"%\")\n",
    "pie(total_by_crime_df$Total, labels = lbls, main='Pie Chart\\nTotal Crimes by category',\n",
    "    col = rainbow(length(total_by_crime_df$Category)))"
   ]
  },
  {
   "cell_type": "markdown",
   "id": "c3279f84-14b9-450e-921e-ee87d86aac23",
   "metadata": {},
   "source": [
    "# Crime Analysis"
   ]
  },
  {
   "cell_type": "code",
   "execution_count": 131,
   "id": "ad01bccf-4519-46be-9eec-d00642b6d014",
   "metadata": {},
   "outputs": [
    {
     "data": {
      "text/html": [
       "<table class=\"dataframe\">\n",
       "<caption>A data.frame: 6 × 10</caption>\n",
       "<thead>\n",
       "\t<tr><th></th><th scope=col>Violent.crime</th><th scope=col>Murder.and.nonnegligent.manslaughter</th><th scope=col>Rape..revised.definition.</th><th scope=col>Robbery</th><th scope=col>Aggravated.assault</th><th scope=col>Property.crime</th><th scope=col>Burglary</th><th scope=col>Larceny.theft</th><th scope=col>Motor.vehicle.theft</th><th scope=col>Arson</th></tr>\n",
       "\t<tr><th></th><th scope=col>&lt;dbl&gt;</th><th scope=col>&lt;int&gt;</th><th scope=col>&lt;dbl&gt;</th><th scope=col>&lt;dbl&gt;</th><th scope=col>&lt;dbl&gt;</th><th scope=col>&lt;dbl&gt;</th><th scope=col>&lt;dbl&gt;</th><th scope=col>&lt;dbl&gt;</th><th scope=col>&lt;dbl&gt;</th><th scope=col>&lt;dbl&gt;</th></tr>\n",
       "</thead>\n",
       "<tbody>\n",
       "\t<tr><th scope=row>1</th><td>212</td><td>2</td><td>14</td><td>48</td><td>148</td><td> 808</td><td>434</td><td> 254</td><td>120</td><td>24</td></tr>\n",
       "\t<tr><th scope=row>2</th><td> 15</td><td>0</td><td> 1</td><td> 6</td><td>  8</td><td> 310</td><td> 82</td><td> 217</td><td> 11</td><td> 0</td></tr>\n",
       "\t<tr><th scope=row>3</th><td>148</td><td>2</td><td> 7</td><td>61</td><td> 78</td><td>1819</td><td>228</td><td>1245</td><td>346</td><td>18</td></tr>\n",
       "\t<tr><th scope=row>4</th><td> 34</td><td>1</td><td> 6</td><td>16</td><td> 11</td><td> 605</td><td> 95</td><td> 447</td><td> 63</td><td> 0</td></tr>\n",
       "\t<tr><th scope=row>5</th><td>168</td><td>1</td><td>13</td><td>74</td><td> 80</td><td>1929</td><td>305</td><td>1413</td><td>211</td><td> 6</td></tr>\n",
       "\t<tr><th scope=row>6</th><td> 32</td><td>0</td><td> 5</td><td> 3</td><td> 24</td><td> 363</td><td> 53</td><td> 276</td><td> 34</td><td> 1</td></tr>\n",
       "</tbody>\n",
       "</table>\n"
      ],
      "text/latex": [
       "A data.frame: 6 × 10\n",
       "\\begin{tabular}{r|llllllllll}\n",
       "  & Violent.crime & Murder.and.nonnegligent.manslaughter & Rape..revised.definition. & Robbery & Aggravated.assault & Property.crime & Burglary & Larceny.theft & Motor.vehicle.theft & Arson\\\\\n",
       "  & <dbl> & <int> & <dbl> & <dbl> & <dbl> & <dbl> & <dbl> & <dbl> & <dbl> & <dbl>\\\\\n",
       "\\hline\n",
       "\t1 & 212 & 2 & 14 & 48 & 148 &  808 & 434 &  254 & 120 & 24\\\\\n",
       "\t2 &  15 & 0 &  1 &  6 &   8 &  310 &  82 &  217 &  11 &  0\\\\\n",
       "\t3 & 148 & 2 &  7 & 61 &  78 & 1819 & 228 & 1245 & 346 & 18\\\\\n",
       "\t4 &  34 & 1 &  6 & 16 &  11 &  605 &  95 &  447 &  63 &  0\\\\\n",
       "\t5 & 168 & 1 & 13 & 74 &  80 & 1929 & 305 & 1413 & 211 &  6\\\\\n",
       "\t6 &  32 & 0 &  5 &  3 &  24 &  363 &  53 &  276 &  34 &  1\\\\\n",
       "\\end{tabular}\n"
      ],
      "text/markdown": [
       "\n",
       "A data.frame: 6 × 10\n",
       "\n",
       "| <!--/--> | Violent.crime &lt;dbl&gt; | Murder.and.nonnegligent.manslaughter &lt;int&gt; | Rape..revised.definition. &lt;dbl&gt; | Robbery &lt;dbl&gt; | Aggravated.assault &lt;dbl&gt; | Property.crime &lt;dbl&gt; | Burglary &lt;dbl&gt; | Larceny.theft &lt;dbl&gt; | Motor.vehicle.theft &lt;dbl&gt; | Arson &lt;dbl&gt; |\n",
       "|---|---|---|---|---|---|---|---|---|---|---|\n",
       "| 1 | 212 | 2 | 14 | 48 | 148 |  808 | 434 |  254 | 120 | 24 |\n",
       "| 2 |  15 | 0 |  1 |  6 |   8 |  310 |  82 |  217 |  11 |  0 |\n",
       "| 3 | 148 | 2 |  7 | 61 |  78 | 1819 | 228 | 1245 | 346 | 18 |\n",
       "| 4 |  34 | 1 |  6 | 16 |  11 |  605 |  95 |  447 |  63 |  0 |\n",
       "| 5 | 168 | 1 | 13 | 74 |  80 | 1929 | 305 | 1413 | 211 |  6 |\n",
       "| 6 |  32 | 0 |  5 |  3 |  24 |  363 |  53 |  276 |  34 |  1 |\n",
       "\n"
      ],
      "text/plain": [
       "  Violent.crime Murder.and.nonnegligent.manslaughter Rape..revised.definition.\n",
       "1 212           2                                    14                       \n",
       "2  15           0                                     1                       \n",
       "3 148           2                                     7                       \n",
       "4  34           1                                     6                       \n",
       "5 168           1                                    13                       \n",
       "6  32           0                                     5                       \n",
       "  Robbery Aggravated.assault Property.crime Burglary Larceny.theft\n",
       "1 48      148                 808           434       254         \n",
       "2  6        8                 310            82       217         \n",
       "3 61       78                1819           228      1245         \n",
       "4 16       11                 605            95       447         \n",
       "5 74       80                1929           305      1413         \n",
       "6  3       24                 363            53       276         \n",
       "  Motor.vehicle.theft Arson\n",
       "1 120                 24   \n",
       "2  11                  0   \n",
       "3 346                 18   \n",
       "4  63                  0   \n",
       "5 211                  6   \n",
       "6  34                  1   "
      ]
     },
     "metadata": {},
     "output_type": "display_data"
    }
   ],
   "source": [
    "#Keep only num Attributes\n",
    "crimes_city <- offenses_city[,c(-1,-2)]\n",
    "head(crimes_city)"
   ]
  },
  {
   "cell_type": "code",
   "execution_count": 135,
   "id": "833cf419-390a-410d-9b3f-a2141f0101ed",
   "metadata": {},
   "outputs": [
    {
     "data": {
      "text/html": [
       "<style>\n",
       ".dl-inline {width: auto; margin:0; padding: 0}\n",
       ".dl-inline>dt, .dl-inline>dd {float: none; width: auto; display: inline-block}\n",
       ".dl-inline>dt::after {content: \":\\0020\"; padding-right: .5ex}\n",
       ".dl-inline>dt:not(:first-of-type) {padding-left: .5ex}\n",
       "</style><dl class=dl-inline><dt>Violent.crime</dt><dd>137347</dd><dt>Murder.and.nonnegligent.manslaughter</dt><dd>1456</dd><dt>Rape..revised.definition.</dt><dd>10673</dd><dt>Robbery</dt><dd>46918</dd><dt>Aggravated.assault</dt><dd>78300</dd><dt>Property.crime</dt><dd>882378</dd><dt>Burglary</dt><dd>162229</dd><dt>Larceny.theft</dt><dd>575940</dd><dt>Motor.vehicle.theft</dt><dd>144209</dd><dt>Arson</dt><dd>6103</dd></dl>\n"
      ],
      "text/latex": [
       "\\begin{description*}\n",
       "\\item[Violent.crime] 137347\n",
       "\\item[Murder.and.nonnegligent.manslaughter] 1456\n",
       "\\item[Rape..revised.definition.] 10673\n",
       "\\item[Robbery] 46918\n",
       "\\item[Aggravated.assault] 78300\n",
       "\\item[Property.crime] 882378\n",
       "\\item[Burglary] 162229\n",
       "\\item[Larceny.theft] 575940\n",
       "\\item[Motor.vehicle.theft] 144209\n",
       "\\item[Arson] 6103\n",
       "\\end{description*}\n"
      ],
      "text/markdown": [
       "Violent.crime\n",
       ":   137347Murder.and.nonnegligent.manslaughter\n",
       ":   1456Rape..revised.definition.\n",
       ":   10673Robbery\n",
       ":   46918Aggravated.assault\n",
       ":   78300Property.crime\n",
       ":   882378Burglary\n",
       ":   162229Larceny.theft\n",
       ":   575940Motor.vehicle.theft\n",
       ":   144209Arson\n",
       ":   6103\n",
       "\n"
      ],
      "text/plain": [
       "                       Violent.crime Murder.and.nonnegligent.manslaughter \n",
       "                              137347                                 1456 \n",
       "           Rape..revised.definition.                              Robbery \n",
       "                               10673                                46918 \n",
       "                  Aggravated.assault                       Property.crime \n",
       "                               78300                               882378 \n",
       "                            Burglary                        Larceny.theft \n",
       "                              162229                               575940 \n",
       "                 Motor.vehicle.theft                                Arson \n",
       "                              144209                                 6103 "
      ]
     },
     "metadata": {},
     "output_type": "display_data"
    }
   ],
   "source": [
    "#Sum in each attribute for Total crimes\n",
    "total_crimes_city <- colSums(crimes_city)\n",
    "total_crimes_city"
   ]
  },
  {
   "cell_type": "code",
   "execution_count": 157,
   "id": "7ce49620-63b1-46e9-949c-956ce53b8ab2",
   "metadata": {},
   "outputs": [
    {
     "data": {
      "image/png": "[encoded data removed]",
      "text/plain": [
       "Plot with title \"Frequency of Crimes\""
      ]
     },
     "metadata": {
      "image/png": {
       "height": 420,
       "width": 420
      }
     },
     "output_type": "display_data"
    }
   ],
   "source": [
    "#Bar plot\n",
    "barplot(total_crimes_city,main = 'Frequency of Crimes',ylab = 'Total Crimes',\n",
    "        las=2,col = 'orange',cex.names = 0.8)"
   ]
  },
  {
   "cell_type": "markdown",
   "id": "33ac8d78-7269-4149-9f65-3039f3ded28f",
   "metadata": {},
   "source": [
    "# Statistical Analysis - Correlation"
   ]
  },
  {
   "cell_type": "code",
   "execution_count": 139,
   "id": "020ee2d6-259f-47fc-9ca3-4925d4647fae",
   "metadata": {},
   "outputs": [
    {
     "data": {
      "text/html": [
       "<table class=\"dataframe\">\n",
       "<caption>A data.frame: 6 × 11</caption>\n",
       "<thead>\n",
       "\t<tr><th></th><th scope=col>Violent.crime</th><th scope=col>Murder.and.nonnegligent.manslaughter</th><th scope=col>Rape..revised.definition.</th><th scope=col>Robbery</th><th scope=col>Aggravated.assault</th><th scope=col>Property.crime</th><th scope=col>Burglary</th><th scope=col>Larceny.theft</th><th scope=col>Motor.vehicle.theft</th><th scope=col>Arson</th><th scope=col>sum_crimes</th></tr>\n",
       "\t<tr><th></th><th scope=col>&lt;dbl&gt;</th><th scope=col>&lt;dbl&gt;</th><th scope=col>&lt;dbl&gt;</th><th scope=col>&lt;dbl&gt;</th><th scope=col>&lt;dbl&gt;</th><th scope=col>&lt;dbl&gt;</th><th scope=col>&lt;dbl&gt;</th><th scope=col>&lt;dbl&gt;</th><th scope=col>&lt;dbl&gt;</th><th scope=col>&lt;dbl&gt;</th><th scope=col>&lt;dbl&gt;</th></tr>\n",
       "</thead>\n",
       "<tbody>\n",
       "\t<tr><th scope=row>1</th><td>510</td><td>510</td><td>13</td><td>177</td><td>314</td><td>2077</td><td> 463</td><td> 985</td><td>629</td><td> 11</td><td>11378</td></tr>\n",
       "\t<tr><th scope=row>2</th><td>155</td><td>155</td><td>20</td><td> 14</td><td>117</td><td>1422</td><td> 708</td><td> 693</td><td> 21</td><td>  0</td><td> 6610</td></tr>\n",
       "\t<tr><th scope=row>3</th><td>426</td><td>426</td><td>24</td><td>153</td><td>235</td><td>2013</td><td> 660</td><td>1332</td><td> 21</td><td> 18</td><td>10616</td></tr>\n",
       "\t<tr><th scope=row>4</th><td>252</td><td>252</td><td>46</td><td> 32</td><td>165</td><td>2031</td><td> 577</td><td>1412</td><td> 42</td><td>  4</td><td> 9626</td></tr>\n",
       "\t<tr><th scope=row>5</th><td>962</td><td>962</td><td>32</td><td>112</td><td>810</td><td>3810</td><td>1398</td><td>1838</td><td>574</td><td>145</td><td>21286</td></tr>\n",
       "\t<tr><th scope=row>6</th><td>219</td><td>219</td><td> 6</td><td>  7</td><td>206</td><td> 625</td><td> 202</td><td> 395</td><td> 28</td><td> 21</td><td> 3856</td></tr>\n",
       "</tbody>\n",
       "</table>\n"
      ],
      "text/latex": [
       "A data.frame: 6 × 11\n",
       "\\begin{tabular}{r|lllllllllll}\n",
       "  & Violent.crime & Murder.and.nonnegligent.manslaughter & Rape..revised.definition. & Robbery & Aggravated.assault & Property.crime & Burglary & Larceny.theft & Motor.vehicle.theft & Arson & sum\\_crimes\\\\\n",
       "  & <dbl> & <dbl> & <dbl> & <dbl> & <dbl> & <dbl> & <dbl> & <dbl> & <dbl> & <dbl> & <dbl>\\\\\n",
       "\\hline\n",
       "\t1 & 510 & 510 & 13 & 177 & 314 & 2077 &  463 &  985 & 629 &  11 & 11378\\\\\n",
       "\t2 & 155 & 155 & 20 &  14 & 117 & 1422 &  708 &  693 &  21 &   0 &  6610\\\\\n",
       "\t3 & 426 & 426 & 24 & 153 & 235 & 2013 &  660 & 1332 &  21 &  18 & 10616\\\\\n",
       "\t4 & 252 & 252 & 46 &  32 & 165 & 2031 &  577 & 1412 &  42 &   4 &  9626\\\\\n",
       "\t5 & 962 & 962 & 32 & 112 & 810 & 3810 & 1398 & 1838 & 574 & 145 & 21286\\\\\n",
       "\t6 & 219 & 219 &  6 &   7 & 206 &  625 &  202 &  395 &  28 &  21 &  3856\\\\\n",
       "\\end{tabular}\n"
      ],
      "text/markdown": [
       "\n",
       "A data.frame: 6 × 11\n",
       "\n",
       "| <!--/--> | Violent.crime &lt;dbl&gt; | Murder.and.nonnegligent.manslaughter &lt;dbl&gt; | Rape..revised.definition. &lt;dbl&gt; | Robbery &lt;dbl&gt; | Aggravated.assault &lt;dbl&gt; | Property.crime &lt;dbl&gt; | Burglary &lt;dbl&gt; | Larceny.theft &lt;dbl&gt; | Motor.vehicle.theft &lt;dbl&gt; | Arson &lt;dbl&gt; | sum_crimes &lt;dbl&gt; |\n",
       "|---|---|---|---|---|---|---|---|---|---|---|---|\n",
       "| 1 | 510 | 510 | 13 | 177 | 314 | 2077 |  463 |  985 | 629 |  11 | 11378 |\n",
       "| 2 | 155 | 155 | 20 |  14 | 117 | 1422 |  708 |  693 |  21 |   0 |  6610 |\n",
       "| 3 | 426 | 426 | 24 | 153 | 235 | 2013 |  660 | 1332 |  21 |  18 | 10616 |\n",
       "| 4 | 252 | 252 | 46 |  32 | 165 | 2031 |  577 | 1412 |  42 |   4 |  9626 |\n",
       "| 5 | 962 | 962 | 32 | 112 | 810 | 3810 | 1398 | 1838 | 574 | 145 | 21286 |\n",
       "| 6 | 219 | 219 |  6 |   7 | 206 |  625 |  202 |  395 |  28 |  21 |  3856 |\n",
       "\n"
      ],
      "text/plain": [
       "  Violent.crime Murder.and.nonnegligent.manslaughter Rape..revised.definition.\n",
       "1 510           510                                  13                       \n",
       "2 155           155                                  20                       \n",
       "3 426           426                                  24                       \n",
       "4 252           252                                  46                       \n",
       "5 962           962                                  32                       \n",
       "6 219           219                                   6                       \n",
       "  Robbery Aggravated.assault Property.crime Burglary Larceny.theft\n",
       "1 177     314                2077            463      985         \n",
       "2  14     117                1422            708      693         \n",
       "3 153     235                2013            660     1332         \n",
       "4  32     165                2031            577     1412         \n",
       "5 112     810                3810           1398     1838         \n",
       "6   7     206                 625            202      395         \n",
       "  Motor.vehicle.theft Arson sum_crimes\n",
       "1 629                  11   11378     \n",
       "2  21                   0    6610     \n",
       "3  21                  18   10616     \n",
       "4  42                   4    9626     \n",
       "5 574                 145   21286     \n",
       "6  28                  21    3856     "
      ]
     },
     "metadata": {},
     "output_type": "display_data"
    }
   ],
   "source": [
    "crimes_county <- offenses_county[,c(-1,-2)]\n",
    "head(crimes_county)"
   ]
  },
  {
   "cell_type": "code",
   "execution_count": 141,
   "id": "413e6e2e-dca6-4a95-aded-55b7516dba8c",
   "metadata": {},
   "outputs": [
    {
     "data": {
      "text/html": [
       "<table class=\"dataframe\">\n",
       "<caption>A matrix: 11 × 11 of type dbl</caption>\n",
       "<thead>\n",
       "\t<tr><th></th><th scope=col>Violent.crime</th><th scope=col>Murder.and.nonnegligent.manslaughter</th><th scope=col>Rape..revised.definition.</th><th scope=col>Robbery</th><th scope=col>Aggravated.assault</th><th scope=col>Property.crime</th><th scope=col>Burglary</th><th scope=col>Larceny.theft</th><th scope=col>Motor.vehicle.theft</th><th scope=col>Arson</th><th scope=col>sum_crimes</th></tr>\n",
       "</thead>\n",
       "<tbody>\n",
       "\t<tr><th scope=row>Violent.crime</th><td>1.00</td><td>1.00</td><td>0.95</td><td>0.96</td><td>1.00</td><td>0.96</td><td>0.92</td><td>0.94</td><td>0.85</td><td>0.74</td><td>0.98</td></tr>\n",
       "\t<tr><th scope=row>Murder.and.nonnegligent.manslaughter</th><td>1.00</td><td>1.00</td><td>0.95</td><td>0.96</td><td>1.00</td><td>0.96</td><td>0.92</td><td>0.94</td><td>0.85</td><td>0.74</td><td>0.98</td></tr>\n",
       "\t<tr><th scope=row>Rape..revised.definition.</th><td>0.95</td><td>0.95</td><td>1.00</td><td>0.88</td><td>0.95</td><td>0.91</td><td>0.87</td><td>0.88</td><td>0.84</td><td>0.74</td><td>0.93</td></tr>\n",
       "\t<tr><th scope=row>Robbery</th><td>0.96</td><td>0.96</td><td>0.88</td><td>1.00</td><td>0.93</td><td>0.92</td><td>0.89</td><td>0.93</td><td>0.74</td><td>0.60</td><td>0.94</td></tr>\n",
       "\t<tr><th scope=row>Aggravated.assault</th><td>1.00</td><td>1.00</td><td>0.95</td><td>0.93</td><td>1.00</td><td>0.95</td><td>0.92</td><td>0.93</td><td>0.87</td><td>0.78</td><td>0.98</td></tr>\n",
       "\t<tr><th scope=row>Property.crime</th><td>0.96</td><td>0.96</td><td>0.91</td><td>0.92</td><td>0.95</td><td>1.00</td><td>0.97</td><td>0.99</td><td>0.86</td><td>0.75</td><td>1.00</td></tr>\n",
       "\t<tr><th scope=row>Burglary</th><td>0.92</td><td>0.92</td><td>0.87</td><td>0.89</td><td>0.92</td><td>0.97</td><td>1.00</td><td>0.97</td><td>0.76</td><td>0.76</td><td>0.97</td></tr>\n",
       "\t<tr><th scope=row>Larceny.theft</th><td>0.94</td><td>0.94</td><td>0.88</td><td>0.93</td><td>0.93</td><td>0.99</td><td>0.97</td><td>1.00</td><td>0.79</td><td>0.68</td><td>0.98</td></tr>\n",
       "\t<tr><th scope=row>Motor.vehicle.theft</th><td>0.85</td><td>0.85</td><td>0.84</td><td>0.74</td><td>0.87</td><td>0.86</td><td>0.76</td><td>0.79</td><td>1.00</td><td>0.79</td><td>0.87</td></tr>\n",
       "\t<tr><th scope=row>Arson</th><td>0.74</td><td>0.74</td><td>0.74</td><td>0.60</td><td>0.78</td><td>0.75</td><td>0.76</td><td>0.68</td><td>0.79</td><td>1.00</td><td>0.76</td></tr>\n",
       "\t<tr><th scope=row>sum_crimes</th><td>0.98</td><td>0.98</td><td>0.93</td><td>0.94</td><td>0.98</td><td>1.00</td><td>0.97</td><td>0.98</td><td>0.87</td><td>0.76</td><td>1.00</td></tr>\n",
       "</tbody>\n",
       "</table>\n"
      ],
      "text/latex": [
       "A matrix: 11 × 11 of type dbl\n",
       "\\begin{tabular}{r|lllllllllll}\n",
       "  & Violent.crime & Murder.and.nonnegligent.manslaughter & Rape..revised.definition. & Robbery & Aggravated.assault & Property.crime & Burglary & Larceny.theft & Motor.vehicle.theft & Arson & sum\\_crimes\\\\\n",
       "\\hline\n",
       "\tViolent.crime & 1.00 & 1.00 & 0.95 & 0.96 & 1.00 & 0.96 & 0.92 & 0.94 & 0.85 & 0.74 & 0.98\\\\\n",
       "\tMurder.and.nonnegligent.manslaughter & 1.00 & 1.00 & 0.95 & 0.96 & 1.00 & 0.96 & 0.92 & 0.94 & 0.85 & 0.74 & 0.98\\\\\n",
       "\tRape..revised.definition. & 0.95 & 0.95 & 1.00 & 0.88 & 0.95 & 0.91 & 0.87 & 0.88 & 0.84 & 0.74 & 0.93\\\\\n",
       "\tRobbery & 0.96 & 0.96 & 0.88 & 1.00 & 0.93 & 0.92 & 0.89 & 0.93 & 0.74 & 0.60 & 0.94\\\\\n",
       "\tAggravated.assault & 1.00 & 1.00 & 0.95 & 0.93 & 1.00 & 0.95 & 0.92 & 0.93 & 0.87 & 0.78 & 0.98\\\\\n",
       "\tProperty.crime & 0.96 & 0.96 & 0.91 & 0.92 & 0.95 & 1.00 & 0.97 & 0.99 & 0.86 & 0.75 & 1.00\\\\\n",
       "\tBurglary & 0.92 & 0.92 & 0.87 & 0.89 & 0.92 & 0.97 & 1.00 & 0.97 & 0.76 & 0.76 & 0.97\\\\\n",
       "\tLarceny.theft & 0.94 & 0.94 & 0.88 & 0.93 & 0.93 & 0.99 & 0.97 & 1.00 & 0.79 & 0.68 & 0.98\\\\\n",
       "\tMotor.vehicle.theft & 0.85 & 0.85 & 0.84 & 0.74 & 0.87 & 0.86 & 0.76 & 0.79 & 1.00 & 0.79 & 0.87\\\\\n",
       "\tArson & 0.74 & 0.74 & 0.74 & 0.60 & 0.78 & 0.75 & 0.76 & 0.68 & 0.79 & 1.00 & 0.76\\\\\n",
       "\tsum\\_crimes & 0.98 & 0.98 & 0.93 & 0.94 & 0.98 & 1.00 & 0.97 & 0.98 & 0.87 & 0.76 & 1.00\\\\\n",
       "\\end{tabular}\n"
      ],
      "text/markdown": [
       "\n",
       "A matrix: 11 × 11 of type dbl\n",
       "\n",
       "| <!--/--> | Violent.crime | Murder.and.nonnegligent.manslaughter | Rape..revised.definition. | Robbery | Aggravated.assault | Property.crime | Burglary | Larceny.theft | Motor.vehicle.theft | Arson | sum_crimes |\n",
       "|---|---|---|---|---|---|---|---|---|---|---|---|\n",
       "| Violent.crime | 1.00 | 1.00 | 0.95 | 0.96 | 1.00 | 0.96 | 0.92 | 0.94 | 0.85 | 0.74 | 0.98 |\n",
       "| Murder.and.nonnegligent.manslaughter | 1.00 | 1.00 | 0.95 | 0.96 | 1.00 | 0.96 | 0.92 | 0.94 | 0.85 | 0.74 | 0.98 |\n",
       "| Rape..revised.definition. | 0.95 | 0.95 | 1.00 | 0.88 | 0.95 | 0.91 | 0.87 | 0.88 | 0.84 | 0.74 | 0.93 |\n",
       "| Robbery | 0.96 | 0.96 | 0.88 | 1.00 | 0.93 | 0.92 | 0.89 | 0.93 | 0.74 | 0.60 | 0.94 |\n",
       "| Aggravated.assault | 1.00 | 1.00 | 0.95 | 0.93 | 1.00 | 0.95 | 0.92 | 0.93 | 0.87 | 0.78 | 0.98 |\n",
       "| Property.crime | 0.96 | 0.96 | 0.91 | 0.92 | 0.95 | 1.00 | 0.97 | 0.99 | 0.86 | 0.75 | 1.00 |\n",
       "| Burglary | 0.92 | 0.92 | 0.87 | 0.89 | 0.92 | 0.97 | 1.00 | 0.97 | 0.76 | 0.76 | 0.97 |\n",
       "| Larceny.theft | 0.94 | 0.94 | 0.88 | 0.93 | 0.93 | 0.99 | 0.97 | 1.00 | 0.79 | 0.68 | 0.98 |\n",
       "| Motor.vehicle.theft | 0.85 | 0.85 | 0.84 | 0.74 | 0.87 | 0.86 | 0.76 | 0.79 | 1.00 | 0.79 | 0.87 |\n",
       "| Arson | 0.74 | 0.74 | 0.74 | 0.60 | 0.78 | 0.75 | 0.76 | 0.68 | 0.79 | 1.00 | 0.76 |\n",
       "| sum_crimes | 0.98 | 0.98 | 0.93 | 0.94 | 0.98 | 1.00 | 0.97 | 0.98 | 0.87 | 0.76 | 1.00 |\n",
       "\n"
      ],
      "text/plain": [
       "                                     Violent.crime\n",
       "Violent.crime                        1.00         \n",
       "Murder.and.nonnegligent.manslaughter 1.00         \n",
       "Rape..revised.definition.            0.95         \n",
       "Robbery                              0.96         \n",
       "Aggravated.assault                   1.00         \n",
       "Property.crime                       0.96         \n",
       "Burglary                             0.92         \n",
       "Larceny.theft                        0.94         \n",
       "Motor.vehicle.theft                  0.85         \n",
       "Arson                                0.74         \n",
       "sum_crimes                           0.98         \n",
       "                                     Murder.and.nonnegligent.manslaughter\n",
       "Violent.crime                        1.00                                \n",
       "Murder.and.nonnegligent.manslaughter 1.00                                \n",
       "Rape..revised.definition.            0.95                                \n",
       "Robbery                              0.96                                \n",
       "Aggravated.assault                   1.00                                \n",
       "Property.crime                       0.96                                \n",
       "Burglary                             0.92                                \n",
       "Larceny.theft                        0.94                                \n",
       "Motor.vehicle.theft                  0.85                                \n",
       "Arson                                0.74                                \n",
       "sum_crimes                           0.98                                \n",
       "                                     Rape..revised.definition. Robbery\n",
       "Violent.crime                        0.95                      0.96   \n",
       "Murder.and.nonnegligent.manslaughter 0.95                      0.96   \n",
       "Rape..revised.definition.            1.00                      0.88   \n",
       "Robbery                              0.88                      1.00   \n",
       "Aggravated.assault                   0.95                      0.93   \n",
       "Property.crime                       0.91                      0.92   \n",
       "Burglary                             0.87                      0.89   \n",
       "Larceny.theft                        0.88                      0.93   \n",
       "Motor.vehicle.theft                  0.84                      0.74   \n",
       "Arson                                0.74                      0.60   \n",
       "sum_crimes                           0.93                      0.94   \n",
       "                                     Aggravated.assault Property.crime Burglary\n",
       "Violent.crime                        1.00               0.96           0.92    \n",
       "Murder.and.nonnegligent.manslaughter 1.00               0.96           0.92    \n",
       "Rape..revised.definition.            0.95               0.91           0.87    \n",
       "Robbery                              0.93               0.92           0.89    \n",
       "Aggravated.assault                   1.00               0.95           0.92    \n",
       "Property.crime                       0.95               1.00           0.97    \n",
       "Burglary                             0.92               0.97           1.00    \n",
       "Larceny.theft                        0.93               0.99           0.97    \n",
       "Motor.vehicle.theft                  0.87               0.86           0.76    \n",
       "Arson                                0.78               0.75           0.76    \n",
       "sum_crimes                           0.98               1.00           0.97    \n",
       "                                     Larceny.theft Motor.vehicle.theft Arson\n",
       "Violent.crime                        0.94          0.85                0.74 \n",
       "Murder.and.nonnegligent.manslaughter 0.94          0.85                0.74 \n",
       "Rape..revised.definition.            0.88          0.84                0.74 \n",
       "Robbery                              0.93          0.74                0.60 \n",
       "Aggravated.assault                   0.93          0.87                0.78 \n",
       "Property.crime                       0.99          0.86                0.75 \n",
       "Burglary                             0.97          0.76                0.76 \n",
       "Larceny.theft                        1.00          0.79                0.68 \n",
       "Motor.vehicle.theft                  0.79          1.00                0.79 \n",
       "Arson                                0.68          0.79                1.00 \n",
       "sum_crimes                           0.98          0.87                0.76 \n",
       "                                     sum_crimes\n",
       "Violent.crime                        0.98      \n",
       "Murder.and.nonnegligent.manslaughter 0.98      \n",
       "Rape..revised.definition.            0.93      \n",
       "Robbery                              0.94      \n",
       "Aggravated.assault                   0.98      \n",
       "Property.crime                       1.00      \n",
       "Burglary                             0.97      \n",
       "Larceny.theft                        0.98      \n",
       "Motor.vehicle.theft                  0.87      \n",
       "Arson                                0.76      \n",
       "sum_crimes                           1.00      "
      ]
     },
     "metadata": {},
     "output_type": "display_data"
    }
   ],
   "source": [
    "cor_crimes_matrix <- round(cor(crimes_county),2)\n",
    "cor_crimes_matrix"
   ]
  },
  {
   "cell_type": "code",
   "execution_count": 143,
   "id": "0ec7a75d-fb22-4d3d-903d-5628dda17009",
   "metadata": {},
   "outputs": [
    {
     "data": {
      "image/png": "[encoded data removed]",
      "text/plain": [
       "Plot with title \"\""
      ]
     },
     "metadata": {
      "image/png": {
       "height": 420,
       "width": 420
      }
     },
     "output_type": "display_data"
    }
   ],
   "source": [
    "corrplot(cor_crimes_matrix, method = \"color\", type = \"upper\", tl.col = 'red')"
   ]
  },
  {
   "cell_type": "markdown",
   "id": "0b7fd069-6b65-49ff-8a12-e6a3449a4f11",
   "metadata": {},
   "source": [
    "# Train - Test data sets for NB classification"
   ]
  },
  {
   "cell_type": "code",
   "execution_count": 3,
   "id": "b6baa17e-5a06-4ae0-8486-28afd7969216",
   "metadata": {},
   "outputs": [
    {
     "data": {
      "text/html": [
       "<table class=\"dataframe\">\n",
       "<caption>A data.frame: 6 × 9</caption>\n",
       "<thead>\n",
       "\t<tr><th></th><th scope=col>Dates</th><th scope=col>Category</th><th scope=col>Descript</th><th scope=col>DayOfWeek</th><th scope=col>PdDistrict</th><th scope=col>Resolution</th><th scope=col>Address</th><th scope=col>X</th><th scope=col>Y</th></tr>\n",
       "\t<tr><th></th><th scope=col>&lt;chr&gt;</th><th scope=col>&lt;chr&gt;</th><th scope=col>&lt;chr&gt;</th><th scope=col>&lt;chr&gt;</th><th scope=col>&lt;chr&gt;</th><th scope=col>&lt;chr&gt;</th><th scope=col>&lt;chr&gt;</th><th scope=col>&lt;dbl&gt;</th><th scope=col>&lt;dbl&gt;</th></tr>\n",
       "</thead>\n",
       "<tbody>\n",
       "\t<tr><th scope=row>1</th><td>2015-05-13 23:53:00</td><td>WARRANTS      </td><td>WARRANT ARREST                </td><td>Wednesday</td><td>NORTHERN </td><td>ARREST, BOOKED</td><td>OAK ST / LAGUNA ST       </td><td>-122.4259</td><td>37.77460</td></tr>\n",
       "\t<tr><th scope=row>2</th><td>2015-05-13 23:53:00</td><td>OTHER OFFENSES</td><td>TRAFFIC VIOLATION ARREST      </td><td>Wednesday</td><td>NORTHERN </td><td>ARREST, BOOKED</td><td>OAK ST / LAGUNA ST       </td><td>-122.4259</td><td>37.77460</td></tr>\n",
       "\t<tr><th scope=row>3</th><td>2015-05-13 23:33:00</td><td>OTHER OFFENSES</td><td>TRAFFIC VIOLATION ARREST      </td><td>Wednesday</td><td>NORTHERN </td><td>ARREST, BOOKED</td><td>VANNESS AV / GREENWICH ST</td><td>-122.4244</td><td>37.80041</td></tr>\n",
       "\t<tr><th scope=row>4</th><td>2015-05-13 23:30:00</td><td>LARCENY/THEFT </td><td>GRAND THEFT FROM LOCKED AUTO  </td><td>Wednesday</td><td>NORTHERN </td><td>NONE          </td><td>1500 Block of LOMBARD ST </td><td>-122.4270</td><td>37.80087</td></tr>\n",
       "\t<tr><th scope=row>5</th><td>2015-05-13 23:30:00</td><td>LARCENY/THEFT </td><td>GRAND THEFT FROM LOCKED AUTO  </td><td>Wednesday</td><td>PARK     </td><td>NONE          </td><td>100 Block of BRODERICK ST</td><td>-122.4387</td><td>37.77154</td></tr>\n",
       "\t<tr><th scope=row>6</th><td>2015-05-13 23:30:00</td><td>LARCENY/THEFT </td><td>GRAND THEFT FROM UNLOCKED AUTO</td><td>Wednesday</td><td>INGLESIDE</td><td>NONE          </td><td>0 Block of TEDDY AV      </td><td>-122.4033</td><td>37.71343</td></tr>\n",
       "</tbody>\n",
       "</table>\n"
      ],
      "text/latex": [
       "A data.frame: 6 × 9\n",
       "\\begin{tabular}{r|lllllllll}\n",
       "  & Dates & Category & Descript & DayOfWeek & PdDistrict & Resolution & Address & X & Y\\\\\n",
       "  & <chr> & <chr> & <chr> & <chr> & <chr> & <chr> & <chr> & <dbl> & <dbl>\\\\\n",
       "\\hline\n",
       "\t1 & 2015-05-13 23:53:00 & WARRANTS       & WARRANT ARREST                 & Wednesday & NORTHERN  & ARREST, BOOKED & OAK ST / LAGUNA ST        & -122.4259 & 37.77460\\\\\n",
       "\t2 & 2015-05-13 23:53:00 & OTHER OFFENSES & TRAFFIC VIOLATION ARREST       & Wednesday & NORTHERN  & ARREST, BOOKED & OAK ST / LAGUNA ST        & -122.4259 & 37.77460\\\\\n",
       "\t3 & 2015-05-13 23:33:00 & OTHER OFFENSES & TRAFFIC VIOLATION ARREST       & Wednesday & NORTHERN  & ARREST, BOOKED & VANNESS AV / GREENWICH ST & -122.4244 & 37.80041\\\\\n",
       "\t4 & 2015-05-13 23:30:00 & LARCENY/THEFT  & GRAND THEFT FROM LOCKED AUTO   & Wednesday & NORTHERN  & NONE           & 1500 Block of LOMBARD ST  & -122.4270 & 37.80087\\\\\n",
       "\t5 & 2015-05-13 23:30:00 & LARCENY/THEFT  & GRAND THEFT FROM LOCKED AUTO   & Wednesday & PARK      & NONE           & 100 Block of BRODERICK ST & -122.4387 & 37.77154\\\\\n",
       "\t6 & 2015-05-13 23:30:00 & LARCENY/THEFT  & GRAND THEFT FROM UNLOCKED AUTO & Wednesday & INGLESIDE & NONE           & 0 Block of TEDDY AV       & -122.4033 & 37.71343\\\\\n",
       "\\end{tabular}\n"
      ],
      "text/markdown": [
       "\n",
       "A data.frame: 6 × 9\n",
       "\n",
       "| <!--/--> | Dates &lt;chr&gt; | Category &lt;chr&gt; | Descript &lt;chr&gt; | DayOfWeek &lt;chr&gt; | PdDistrict &lt;chr&gt; | Resolution &lt;chr&gt; | Address &lt;chr&gt; | X &lt;dbl&gt; | Y &lt;dbl&gt; |\n",
       "|---|---|---|---|---|---|---|---|---|---|\n",
       "| 1 | 2015-05-13 23:53:00 | WARRANTS       | WARRANT ARREST                 | Wednesday | NORTHERN  | ARREST, BOOKED | OAK ST / LAGUNA ST        | -122.4259 | 37.77460 |\n",
       "| 2 | 2015-05-13 23:53:00 | OTHER OFFENSES | TRAFFIC VIOLATION ARREST       | Wednesday | NORTHERN  | ARREST, BOOKED | OAK ST / LAGUNA ST        | -122.4259 | 37.77460 |\n",
       "| 3 | 2015-05-13 23:33:00 | OTHER OFFENSES | TRAFFIC VIOLATION ARREST       | Wednesday | NORTHERN  | ARREST, BOOKED | VANNESS AV / GREENWICH ST | -122.4244 | 37.80041 |\n",
       "| 4 | 2015-05-13 23:30:00 | LARCENY/THEFT  | GRAND THEFT FROM LOCKED AUTO   | Wednesday | NORTHERN  | NONE           | 1500 Block of LOMBARD ST  | -122.4270 | 37.80087 |\n",
       "| 5 | 2015-05-13 23:30:00 | LARCENY/THEFT  | GRAND THEFT FROM LOCKED AUTO   | Wednesday | PARK      | NONE           | 100 Block of BRODERICK ST | -122.4387 | 37.77154 |\n",
       "| 6 | 2015-05-13 23:30:00 | LARCENY/THEFT  | GRAND THEFT FROM UNLOCKED AUTO | Wednesday | INGLESIDE | NONE           | 0 Block of TEDDY AV       | -122.4033 | 37.71343 |\n",
       "\n"
      ],
      "text/plain": [
       "  Dates               Category       Descript                       DayOfWeek\n",
       "1 2015-05-13 23:53:00 WARRANTS       WARRANT ARREST                 Wednesday\n",
       "2 2015-05-13 23:53:00 OTHER OFFENSES TRAFFIC VIOLATION ARREST       Wednesday\n",
       "3 2015-05-13 23:33:00 OTHER OFFENSES TRAFFIC VIOLATION ARREST       Wednesday\n",
       "4 2015-05-13 23:30:00 LARCENY/THEFT  GRAND THEFT FROM LOCKED AUTO   Wednesday\n",
       "5 2015-05-13 23:30:00 LARCENY/THEFT  GRAND THEFT FROM LOCKED AUTO   Wednesday\n",
       "6 2015-05-13 23:30:00 LARCENY/THEFT  GRAND THEFT FROM UNLOCKED AUTO Wednesday\n",
       "  PdDistrict Resolution     Address                   X         Y       \n",
       "1 NORTHERN   ARREST, BOOKED OAK ST / LAGUNA ST        -122.4259 37.77460\n",
       "2 NORTHERN   ARREST, BOOKED OAK ST / LAGUNA ST        -122.4259 37.77460\n",
       "3 NORTHERN   ARREST, BOOKED VANNESS AV / GREENWICH ST -122.4244 37.80041\n",
       "4 NORTHERN   NONE           1500 Block of LOMBARD ST  -122.4270 37.80087\n",
       "5 PARK       NONE           100 Block of BRODERICK ST -122.4387 37.77154\n",
       "6 INGLESIDE  NONE           0 Block of TEDDY AV       -122.4033 37.71343"
      ]
     },
     "metadata": {},
     "output_type": "display_data"
    }
   ],
   "source": [
    "train <-  read.csv(\"C:/Users/chris/OneDrive/Έγγραφα/R_scripts/train.csv\")\n",
    "head(train)"
   ]
  },
  {
   "cell_type": "code",
   "execution_count": 5,
   "id": "6bb6adf4-0806-4f2d-b769-48d286cc6682",
   "metadata": {},
   "outputs": [
    {
     "data": {
      "text/html": [
       "<table class=\"dataframe\">\n",
       "<caption>A data.frame: 6 × 7</caption>\n",
       "<thead>\n",
       "\t<tr><th></th><th scope=col>Id</th><th scope=col>Dates</th><th scope=col>DayOfWeek</th><th scope=col>PdDistrict</th><th scope=col>Address</th><th scope=col>X</th><th scope=col>Y</th></tr>\n",
       "\t<tr><th></th><th scope=col>&lt;int&gt;</th><th scope=col>&lt;chr&gt;</th><th scope=col>&lt;chr&gt;</th><th scope=col>&lt;chr&gt;</th><th scope=col>&lt;chr&gt;</th><th scope=col>&lt;dbl&gt;</th><th scope=col>&lt;dbl&gt;</th></tr>\n",
       "</thead>\n",
       "<tbody>\n",
       "\t<tr><th scope=row>1</th><td>0</td><td>2015-05-10 23:59:00</td><td>Sunday</td><td>BAYVIEW  </td><td>2000 Block of THOMAS AV </td><td>-122.3996</td><td>37.73505</td></tr>\n",
       "\t<tr><th scope=row>2</th><td>1</td><td>2015-05-10 23:51:00</td><td>Sunday</td><td>BAYVIEW  </td><td>3RD ST / REVERE AV      </td><td>-122.3915</td><td>37.73243</td></tr>\n",
       "\t<tr><th scope=row>3</th><td>2</td><td>2015-05-10 23:50:00</td><td>Sunday</td><td>NORTHERN </td><td>2000 Block of GOUGH ST  </td><td>-122.4260</td><td>37.79221</td></tr>\n",
       "\t<tr><th scope=row>4</th><td>3</td><td>2015-05-10 23:45:00</td><td>Sunday</td><td>INGLESIDE</td><td>4700 Block of MISSION ST</td><td>-122.4374</td><td>37.72141</td></tr>\n",
       "\t<tr><th scope=row>5</th><td>4</td><td>2015-05-10 23:45:00</td><td>Sunday</td><td>INGLESIDE</td><td>4700 Block of MISSION ST</td><td>-122.4374</td><td>37.72141</td></tr>\n",
       "\t<tr><th scope=row>6</th><td>5</td><td>2015-05-10 23:40:00</td><td>Sunday</td><td>TARAVAL  </td><td>BROAD ST / CAPITOL AV   </td><td>-122.4590</td><td>37.71317</td></tr>\n",
       "</tbody>\n",
       "</table>\n"
      ],
      "text/latex": [
       "A data.frame: 6 × 7\n",
       "\\begin{tabular}{r|lllllll}\n",
       "  & Id & Dates & DayOfWeek & PdDistrict & Address & X & Y\\\\\n",
       "  & <int> & <chr> & <chr> & <chr> & <chr> & <dbl> & <dbl>\\\\\n",
       "\\hline\n",
       "\t1 & 0 & 2015-05-10 23:59:00 & Sunday & BAYVIEW   & 2000 Block of THOMAS AV  & -122.3996 & 37.73505\\\\\n",
       "\t2 & 1 & 2015-05-10 23:51:00 & Sunday & BAYVIEW   & 3RD ST / REVERE AV       & -122.3915 & 37.73243\\\\\n",
       "\t3 & 2 & 2015-05-10 23:50:00 & Sunday & NORTHERN  & 2000 Block of GOUGH ST   & -122.4260 & 37.79221\\\\\n",
       "\t4 & 3 & 2015-05-10 23:45:00 & Sunday & INGLESIDE & 4700 Block of MISSION ST & -122.4374 & 37.72141\\\\\n",
       "\t5 & 4 & 2015-05-10 23:45:00 & Sunday & INGLESIDE & 4700 Block of MISSION ST & -122.4374 & 37.72141\\\\\n",
       "\t6 & 5 & 2015-05-10 23:40:00 & Sunday & TARAVAL   & BROAD ST / CAPITOL AV    & -122.4590 & 37.71317\\\\\n",
       "\\end{tabular}\n"
      ],
      "text/markdown": [
       "\n",
       "A data.frame: 6 × 7\n",
       "\n",
       "| <!--/--> | Id &lt;int&gt; | Dates &lt;chr&gt; | DayOfWeek &lt;chr&gt; | PdDistrict &lt;chr&gt; | Address &lt;chr&gt; | X &lt;dbl&gt; | Y &lt;dbl&gt; |\n",
       "|---|---|---|---|---|---|---|---|\n",
       "| 1 | 0 | 2015-05-10 23:59:00 | Sunday | BAYVIEW   | 2000 Block of THOMAS AV  | -122.3996 | 37.73505 |\n",
       "| 2 | 1 | 2015-05-10 23:51:00 | Sunday | BAYVIEW   | 3RD ST / REVERE AV       | -122.3915 | 37.73243 |\n",
       "| 3 | 2 | 2015-05-10 23:50:00 | Sunday | NORTHERN  | 2000 Block of GOUGH ST   | -122.4260 | 37.79221 |\n",
       "| 4 | 3 | 2015-05-10 23:45:00 | Sunday | INGLESIDE | 4700 Block of MISSION ST | -122.4374 | 37.72141 |\n",
       "| 5 | 4 | 2015-05-10 23:45:00 | Sunday | INGLESIDE | 4700 Block of MISSION ST | -122.4374 | 37.72141 |\n",
       "| 6 | 5 | 2015-05-10 23:40:00 | Sunday | TARAVAL   | BROAD ST / CAPITOL AV    | -122.4590 | 37.71317 |\n",
       "\n"
      ],
      "text/plain": [
       "  Id Dates               DayOfWeek PdDistrict Address                 \n",
       "1 0  2015-05-10 23:59:00 Sunday    BAYVIEW    2000 Block of THOMAS AV \n",
       "2 1  2015-05-10 23:51:00 Sunday    BAYVIEW    3RD ST / REVERE AV      \n",
       "3 2  2015-05-10 23:50:00 Sunday    NORTHERN   2000 Block of GOUGH ST  \n",
       "4 3  2015-05-10 23:45:00 Sunday    INGLESIDE  4700 Block of MISSION ST\n",
       "5 4  2015-05-10 23:45:00 Sunday    INGLESIDE  4700 Block of MISSION ST\n",
       "6 5  2015-05-10 23:40:00 Sunday    TARAVAL    BROAD ST / CAPITOL AV   \n",
       "  X         Y       \n",
       "1 -122.3996 37.73505\n",
       "2 -122.3915 37.73243\n",
       "3 -122.4260 37.79221\n",
       "4 -122.4374 37.72141\n",
       "5 -122.4374 37.72141\n",
       "6 -122.4590 37.71317"
      ]
     },
     "metadata": {},
     "output_type": "display_data"
    }
   ],
   "source": [
    "test <- read.csv(\"C:/Users/chris/OneDrive/Έγγραφα/R_scripts/test.csv\")\n",
    "head(test)"
   ]
  },
  {
   "cell_type": "code",
   "execution_count": 7,
   "id": "72accbab-7a9f-44b2-bac5-6aa4f5d2ec58",
   "metadata": {},
   "outputs": [],
   "source": [
    "train$DayOfWeek <- factor(train$DayOfWeek, levels = c(\"Monday\",\"Tuesday\",\"Wednesday\",\"Thursday\",\"Friday\",\"Saturday\",\"Sunday\"))"
   ]
  },
  {
   "cell_type": "code",
   "execution_count": 12,
   "id": "a25f6f4d-14ba-4a3a-915b-e88c7a9af8bd",
   "metadata": {},
   "outputs": [
    {
     "data": {
      "image/png": "[encoded data removed]",
      "text/plain": [
       "plot without title"
      ]
     },
     "metadata": {
      "image/png": {
       "height": 420,
       "width": 420
      }
     },
     "output_type": "display_data"
    }
   ],
   "source": [
    "ggplot(train, aes(x= DayOfWeek, fill = DayOfWeek)) + \n",
    "  geom_bar() + labs(title = 'Total Crimes by Day', x = 'Day', y = 'Total Crimes') +\n",
    "  theme(legend.position = 'none')"
   ]
  },
  {
   "cell_type": "markdown",
   "id": "8c65e50d-f8c3-4fdd-97ee-fb3d84fb4e1f",
   "metadata": {},
   "source": [
    "# FREQUENT TABLE"
   ]
  },
  {
   "cell_type": "code",
   "execution_count": 171,
   "id": "586cfc4c-e2a8-402f-8217-5326982501eb",
   "metadata": {},
   "outputs": [
    {
     "data": {
      "text/plain": [
       "\n",
       "   Monday   Tuesday Wednesday  Thursday    Friday  Saturday    Sunday \n",
       "   121584    124965    129211    125038    133734    126810    116707 "
      ]
     },
     "metadata": {},
     "output_type": "display_data"
    },
    {
     "data": {
      "text/html": [
       "<table class=\"dataframe\">\n",
       "<caption>A data.frame: 7 × 5</caption>\n",
       "<thead>\n",
       "\t<tr><th scope=col>Day</th><th scope=col>Frequency</th><th scope=col>Relative_Freq</th><th scope=col>Cumulative_Freq</th><th scope=col>Relative_Cumulative_Freq</th></tr>\n",
       "\t<tr><th scope=col>&lt;fct&gt;</th><th scope=col>&lt;int&gt;</th><th scope=col>&lt;dbl&gt;</th><th scope=col>&lt;int&gt;</th><th scope=col>&lt;dbl&gt;</th></tr>\n",
       "</thead>\n",
       "<tbody>\n",
       "\t<tr><td>Monday   </td><td>121584</td><td>0.1384706</td><td>121584</td><td>0.1384706</td></tr>\n",
       "\t<tr><td>Tuesday  </td><td>124965</td><td>0.1423212</td><td>246549</td><td>0.2807918</td></tr>\n",
       "\t<tr><td>Wednesday</td><td>129211</td><td>0.1471569</td><td>375760</td><td>0.4279488</td></tr>\n",
       "\t<tr><td>Thursday </td><td>125038</td><td>0.1424044</td><td>500798</td><td>0.5703531</td></tr>\n",
       "\t<tr><td>Friday   </td><td>133734</td><td>0.1523081</td><td>634532</td><td>0.7226613</td></tr>\n",
       "\t<tr><td>Saturday </td><td>126810</td><td>0.1444225</td><td>761342</td><td>0.8670837</td></tr>\n",
       "\t<tr><td>Sunday   </td><td>116707</td><td>0.1329163</td><td>878049</td><td>1.0000000</td></tr>\n",
       "</tbody>\n",
       "</table>\n"
      ],
      "text/latex": [
       "A data.frame: 7 × 5\n",
       "\\begin{tabular}{lllll}\n",
       " Day & Frequency & Relative\\_Freq & Cumulative\\_Freq & Relative\\_Cumulative\\_Freq\\\\\n",
       " <fct> & <int> & <dbl> & <int> & <dbl>\\\\\n",
       "\\hline\n",
       "\t Monday    & 121584 & 0.1384706 & 121584 & 0.1384706\\\\\n",
       "\t Tuesday   & 124965 & 0.1423212 & 246549 & 0.2807918\\\\\n",
       "\t Wednesday & 129211 & 0.1471569 & 375760 & 0.4279488\\\\\n",
       "\t Thursday  & 125038 & 0.1424044 & 500798 & 0.5703531\\\\\n",
       "\t Friday    & 133734 & 0.1523081 & 634532 & 0.7226613\\\\\n",
       "\t Saturday  & 126810 & 0.1444225 & 761342 & 0.8670837\\\\\n",
       "\t Sunday    & 116707 & 0.1329163 & 878049 & 1.0000000\\\\\n",
       "\\end{tabular}\n"
      ],
      "text/markdown": [
       "\n",
       "A data.frame: 7 × 5\n",
       "\n",
       "| Day &lt;fct&gt; | Frequency &lt;int&gt; | Relative_Freq &lt;dbl&gt; | Cumulative_Freq &lt;int&gt; | Relative_Cumulative_Freq &lt;dbl&gt; |\n",
       "|---|---|---|---|---|\n",
       "| Monday    | 121584 | 0.1384706 | 121584 | 0.1384706 |\n",
       "| Tuesday   | 124965 | 0.1423212 | 246549 | 0.2807918 |\n",
       "| Wednesday | 129211 | 0.1471569 | 375760 | 0.4279488 |\n",
       "| Thursday  | 125038 | 0.1424044 | 500798 | 0.5703531 |\n",
       "| Friday    | 133734 | 0.1523081 | 634532 | 0.7226613 |\n",
       "| Saturday  | 126810 | 0.1444225 | 761342 | 0.8670837 |\n",
       "| Sunday    | 116707 | 0.1329163 | 878049 | 1.0000000 |\n",
       "\n"
      ],
      "text/plain": [
       "  Day       Frequency Relative_Freq Cumulative_Freq Relative_Cumulative_Freq\n",
       "1 Monday    121584    0.1384706     121584          0.1384706               \n",
       "2 Tuesday   124965    0.1423212     246549          0.2807918               \n",
       "3 Wednesday 129211    0.1471569     375760          0.4279488               \n",
       "4 Thursday  125038    0.1424044     500798          0.5703531               \n",
       "5 Friday    133734    0.1523081     634532          0.7226613               \n",
       "6 Saturday  126810    0.1444225     761342          0.8670837               \n",
       "7 Sunday    116707    0.1329163     878049          1.0000000               "
      ]
     },
     "metadata": {},
     "output_type": "display_data"
    }
   ],
   "source": [
    "frequencies <- table(train$DayOfWeek)      \n",
    "frequencies\n",
    "#Data Frame creation\n",
    "df_fr <- as.data.frame(frequencies)\n",
    "colnames(df_fr) <- c('Day','Frequency')\n",
    "#Relative Frequency\n",
    "df_fr$Relative_Freq <- df_fr$Frequency/sum(df_fr$Frequency)\n",
    "#Cumulative Frequency\n",
    "df_fr$Cumulative_Freq <- cumsum(df_fr$Frequency)\n",
    "#Relative Cumulative Frequency\n",
    "df_fr$Relative_Cumulative_Freq <- df_fr$Cumulative_Freq/sum(df_fr$Frequency)\n",
    "df_fr"
   ]
  },
  {
   "cell_type": "markdown",
   "id": "858f146c-5570-4731-895f-bb38281cb53a",
   "metadata": {},
   "source": [
    "# CLASSIFICATION"
   ]
  },
  {
   "cell_type": "code",
   "execution_count": 16,
   "id": "d0dfe21d-8f79-44ea-863c-e7313ea9529f",
   "metadata": {},
   "outputs": [
    {
     "data": {
      "text/plain": [
       "\n",
       "     1      2      3      4      5      6      7 \n",
       "121584 124965 129211 125038 133734 126810 116707 "
      ]
     },
     "metadata": {},
     "output_type": "display_data"
    }
   ],
   "source": [
    "#Encode DayOfWeek attribute in num\n",
    "train$DayOfWeek <- as.character(train$DayOfWeek)\n",
    "train$DayOfWeek[train$DayOfWeek == \"Monday\"] <- 1\n",
    "train$DayOfWeek[train$DayOfWeek == \"Tuesday\"] <- 2\n",
    "train$DayOfWeek[train$DayOfWeek == \"Wednesday\"] <- 3\n",
    "train$DayOfWeek[train$DayOfWeek == \"Thursday\"] <- 4\n",
    "train$DayOfWeek[train$DayOfWeek == \"Friday\"] <- 5\n",
    "train$DayOfWeek[train$DayOfWeek == \"Saturday\"] <- 6\n",
    "train$DayOfWeek[train$DayOfWeek == \"Sunday\"] <- 7\n",
    "train$DayOfWeek <- as.numeric(train$DayOfWeek)\n",
    "table(train$DayOfWeek)"
   ]
  },
  {
   "cell_type": "code",
   "execution_count": 18,
   "id": "ea57488b-fbc6-4d5f-9cdb-d6ffbcae1a1a",
   "metadata": {},
   "outputs": [
    {
     "data": {
      "text/plain": [
       "\n",
       "     1      2      3      4      5      6      7      8      9     10 \n",
       " 89431  85460  78845 119908 105296  49313  45209 157182  65596  81809 "
      ]
     },
     "metadata": {},
     "output_type": "display_data"
    }
   ],
   "source": [
    "#Encode PdDistrict attribute in num\n",
    "train$PdDistrict[train$PdDistrict == \"BAYVIEW\"] <- 1\n",
    "train$PdDistrict[train$PdDistrict == \"CENTRAL\"] <- 2\n",
    "train$PdDistrict[train$PdDistrict == \"INGLESIDE\"] <- 3\n",
    "train$PdDistrict[train$PdDistrict == \"MISSION\"] <- 4\n",
    "train$PdDistrict[train$PdDistrict == \"NORTHERN\"] <- 5\n",
    "train$PdDistrict[train$PdDistrict == \"PARK\"] <- 6\n",
    "train$PdDistrict[train$PdDistrict == \"RICHMOND\"] <- 7\n",
    "train$PdDistrict[train$PdDistrict == \"SOUTHERN\"] <- 8\n",
    "train$PdDistrict[train$PdDistrict == \"TARAVAL\"] <- 9\n",
    "train$PdDistrict[train$PdDistrict == \"TENDERLOIN\"] <- 10\n",
    "train$PdDistrict <- as.numeric(train$PdDistrict)\n",
    "table(train$PdDistrict)"
   ]
  },
  {
   "cell_type": "code",
   "execution_count": 20,
   "id": "be13ceab-4d52-415b-9504-1fc9b0c44e60",
   "metadata": {},
   "outputs": [],
   "source": [
    "#Change Label attribute in factor\n",
    "train$Category <- as.factor(train$Category)"
   ]
  },
  {
   "cell_type": "code",
   "execution_count": 24,
   "id": "2f675423-1ce4-4c0d-a045-30ce6386cff3",
   "metadata": {},
   "outputs": [
    {
     "data": {
      "text/html": [
       "0"
      ],
      "text/latex": [
       "0"
      ],
      "text/markdown": [
       "0"
      ],
      "text/plain": [
       "[1] 0"
      ]
     },
     "metadata": {},
     "output_type": "display_data"
    },
    {
     "data": {
      "text/html": [
       "<style>\n",
       ".list-inline {list-style: none; margin:0; padding: 0}\n",
       ".list-inline>li {display: inline-block}\n",
       ".list-inline>li:not(:last-child)::after {content: \"\\00b7\"; padding: 0 .5ex}\n",
       "</style>\n",
       "<ol class=list-inline><li>23</li><li>23</li><li>23</li><li>23</li><li>23</li><li>23</li></ol>\n"
      ],
      "text/latex": [
       "\\begin{enumerate*}\n",
       "\\item 23\n",
       "\\item 23\n",
       "\\item 23\n",
       "\\item 23\n",
       "\\item 23\n",
       "\\item 23\n",
       "\\end{enumerate*}\n"
      ],
      "text/markdown": [
       "1. 23\n",
       "2. 23\n",
       "3. 23\n",
       "4. 23\n",
       "5. 23\n",
       "6. 23\n",
       "\n",
       "\n"
      ],
      "text/plain": [
       "[1] 23 23 23 23 23 23"
      ]
     },
     "metadata": {},
     "output_type": "display_data"
    }
   ],
   "source": [
    "#Delete lines where Hour has NA values\n",
    "train <- train[!is.na(train$Dates), ]\n",
    "sum(is.na(train$Hour))\n",
    "train$Dates <- as.POSIXct(train$Dates, format = \"%Y-%m-%d %H:%M:%S\")\n",
    "train$Hour <- as.numeric(format(train$Dates, \"%H\"))\n",
    "head(train$Hour)"
   ]
  },
  {
   "cell_type": "code",
   "execution_count": 26,
   "id": "004836fb-82e0-42f7-b07e-e1652273a7fd",
   "metadata": {},
   "outputs": [
    {
     "data": {
      "text/html": [
       "0"
      ],
      "text/latex": [
       "0"
      ],
      "text/markdown": [
       "0"
      ],
      "text/plain": [
       "[1] 0"
      ]
     },
     "metadata": {},
     "output_type": "display_data"
    }
   ],
   "source": [
    "sum(is.na(train$Month))\n",
    "train$Month <- as.numeric(format(train$Dates, \"%m\"))"
   ]
  },
  {
   "cell_type": "code",
   "execution_count": 32,
   "id": "914b505f-01fc-438b-9810-291f69592479",
   "metadata": {},
   "outputs": [
    {
     "data": {
      "text/plain": [
       "\n",
       "                      ARSON                     ASSAULT \n",
       "                       1513                       76864 \n",
       "                 BAD CHECKS                     BRIBERY \n",
       "                        406                         289 \n",
       "                   BURGLARY          DISORDERLY CONDUCT \n",
       "                      36753                        4320 \n",
       "DRIVING UNDER THE INFLUENCE               DRUG/NARCOTIC \n",
       "                       2268                       53971 \n",
       "                DRUNKENNESS                EMBEZZLEMENT \n",
       "                       4280                        1166 \n",
       "                  EXTORTION             FAMILY OFFENSES \n",
       "                        256                         491 \n",
       "     FORGERY/COUNTERFEITING                       FRAUD \n",
       "                      10609                       16679 \n",
       "                   GAMBLING                  KIDNAPPING \n",
       "                        146                        2341 \n",
       "              LARCENY/THEFT                 LIQUOR LAWS \n",
       "                     174896                        1903 \n",
       "                  LOITERING              MISSING PERSON \n",
       "                       1225                       25988 \n",
       "               NON-CRIMINAL              OTHER OFFENSES \n",
       "                      92300                      126178 \n",
       "    PORNOGRAPHY/OBSCENE MAT                PROSTITUTION \n",
       "                         22                        7483 \n",
       "          RECOVERED VEHICLE                     ROBBERY \n",
       "                       3138                       22998 \n",
       "                    RUNAWAY             SECONDARY CODES \n",
       "                       1946                        9985 \n",
       "      SEX OFFENSES FORCIBLE   SEX OFFENSES NON FORCIBLE \n",
       "                       4388                         148 \n",
       "            STOLEN PROPERTY                     SUICIDE \n",
       "                       4540                         507 \n",
       "             SUSPICIOUS OCC                        TREA \n",
       "                      31412                           6 \n",
       "                   TRESPASS                   VANDALISM \n",
       "                       7325                       44720 \n",
       "              VEHICLE THEFT                    WARRANTS \n",
       "                      53777                       42212 \n",
       "                WEAPON LAWS \n",
       "                       8553 "
      ]
     },
     "metadata": {},
     "output_type": "display_data"
    },
    {
     "data": {
      "text/html": [
       "<style>\n",
       ".list-inline {list-style: none; margin:0; padding: 0}\n",
       ".list-inline>li {display: inline-block}\n",
       ".list-inline>li:not(:last-child)::after {content: \"\\00b7\"; padding: 0 .5ex}\n",
       "</style>\n",
       "<ol class=list-inline><li>'LIQUOR LAWS'</li><li>'RUNAWAY'</li><li>'KIDNAPPING'</li></ol>\n"
      ],
      "text/latex": [
       "\\begin{enumerate*}\n",
       "\\item 'LIQUOR LAWS'\n",
       "\\item 'RUNAWAY'\n",
       "\\item 'KIDNAPPING'\n",
       "\\end{enumerate*}\n"
      ],
      "text/markdown": [
       "1. 'LIQUOR LAWS'\n",
       "2. 'RUNAWAY'\n",
       "3. 'KIDNAPPING'\n",
       "\n",
       "\n"
      ],
      "text/plain": [
       "[1] \"LIQUOR LAWS\" \"RUNAWAY\"     \"KIDNAPPING\" "
      ]
     },
     "metadata": {},
     "output_type": "display_data"
    }
   ],
   "source": [
    "#Selection of 3 isomeric variables LIQUOR LAWS (1903 observations), RUNAWAY (1946 observations), KIDNAPPING (2341 observations)\n",
    "table(train$Category)\n",
    "choose_categories <- c('LIQUOR LAWS','RUNAWAY','KIDNAPPING')\n",
    "head(choose_categories)"
   ]
  },
  {
   "cell_type": "code",
   "execution_count": 34,
   "id": "7f053913-2aa2-49d1-9f4c-142486aa5095",
   "metadata": {},
   "outputs": [],
   "source": [
    "#Keep only the lines of these 3 classes\n",
    "choose_train <- train[train$Category %in% choose_categories,]\n",
    "choose_train$Category <-factor(choose_train$Category)"
   ]
  },
  {
   "cell_type": "code",
   "execution_count": 36,
   "id": "b2f0b55a-55ec-48b1-ac42-f4305a289914",
   "metadata": {},
   "outputs": [],
   "source": [
    "#Drop remaining levels\n",
    "choose_train$Category <- droplevels(choose_train$Category)"
   ]
  },
  {
   "cell_type": "code",
   "execution_count": 40,
   "id": "9a28fa54-43c3-464b-91e5-5a54f45f2837",
   "metadata": {},
   "outputs": [
    {
     "data": {
      "text/plain": [
       "\n",
       " KIDNAPPING LIQUOR LAWS     RUNAWAY \n",
       "  0.3781906   0.3074313   0.3143780 "
      ]
     },
     "metadata": {},
     "output_type": "display_data"
    }
   ],
   "source": [
    "#We check if they are uniformly distributed \n",
    "prop.table(table(choose_train$Category))\n",
    "#Kidnapping value is higher but not enough to have a bias"
   ]
  },
  {
   "cell_type": "code",
   "execution_count": 42,
   "id": "4d5330dd-728f-48cf-a346-fce22e5b1254",
   "metadata": {},
   "outputs": [
    {
     "data": {
      "text/html": [
       "<table class=\"dataframe\">\n",
       "<caption>A data.frame: 6 × 7</caption>\n",
       "<thead>\n",
       "\t<tr><th></th><th scope=col>DayOfWeek</th><th scope=col>PdDistrict</th><th scope=col>X</th><th scope=col>Y</th><th scope=col>Hour</th><th scope=col>Month</th><th scope=col>Category</th></tr>\n",
       "\t<tr><th></th><th scope=col>&lt;dbl&gt;</th><th scope=col>&lt;dbl&gt;</th><th scope=col>&lt;dbl&gt;</th><th scope=col>&lt;dbl&gt;</th><th scope=col>&lt;dbl&gt;</th><th scope=col>&lt;dbl&gt;</th><th scope=col>&lt;fct&gt;</th></tr>\n",
       "</thead>\n",
       "<tbody>\n",
       "\t<tr><th scope=row>1</th><td>3</td><td>3</td><td>-122.4243</td><td>37.74505</td><td>12</td><td>5</td><td>KIDNAPPING</td></tr>\n",
       "\t<tr><th scope=row>2</th><td>3</td><td>3</td><td>-122.4497</td><td>37.70976</td><td> 9</td><td>5</td><td>RUNAWAY   </td></tr>\n",
       "\t<tr><th scope=row>3</th><td>3</td><td>8</td><td>-122.4197</td><td>37.77468</td><td> 4</td><td>5</td><td>KIDNAPPING</td></tr>\n",
       "\t<tr><th scope=row>4</th><td>2</td><td>2</td><td>-122.4039</td><td>37.79054</td><td>22</td><td>5</td><td>KIDNAPPING</td></tr>\n",
       "\t<tr><th scope=row>5</th><td>1</td><td>3</td><td>-122.4262</td><td>37.71002</td><td>16</td><td>5</td><td>KIDNAPPING</td></tr>\n",
       "\t<tr><th scope=row>6</th><td>1</td><td>7</td><td>-122.4585</td><td>37.78380</td><td>11</td><td>5</td><td>RUNAWAY   </td></tr>\n",
       "</tbody>\n",
       "</table>\n"
      ],
      "text/latex": [
       "A data.frame: 6 × 7\n",
       "\\begin{tabular}{r|lllllll}\n",
       "  & DayOfWeek & PdDistrict & X & Y & Hour & Month & Category\\\\\n",
       "  & <dbl> & <dbl> & <dbl> & <dbl> & <dbl> & <dbl> & <fct>\\\\\n",
       "\\hline\n",
       "\t1 & 3 & 3 & -122.4243 & 37.74505 & 12 & 5 & KIDNAPPING\\\\\n",
       "\t2 & 3 & 3 & -122.4497 & 37.70976 &  9 & 5 & RUNAWAY   \\\\\n",
       "\t3 & 3 & 8 & -122.4197 & 37.77468 &  4 & 5 & KIDNAPPING\\\\\n",
       "\t4 & 2 & 2 & -122.4039 & 37.79054 & 22 & 5 & KIDNAPPING\\\\\n",
       "\t5 & 1 & 3 & -122.4262 & 37.71002 & 16 & 5 & KIDNAPPING\\\\\n",
       "\t6 & 1 & 7 & -122.4585 & 37.78380 & 11 & 5 & RUNAWAY   \\\\\n",
       "\\end{tabular}\n"
      ],
      "text/markdown": [
       "\n",
       "A data.frame: 6 × 7\n",
       "\n",
       "| <!--/--> | DayOfWeek &lt;dbl&gt; | PdDistrict &lt;dbl&gt; | X &lt;dbl&gt; | Y &lt;dbl&gt; | Hour &lt;dbl&gt; | Month &lt;dbl&gt; | Category &lt;fct&gt; |\n",
       "|---|---|---|---|---|---|---|---|\n",
       "| 1 | 3 | 3 | -122.4243 | 37.74505 | 12 | 5 | KIDNAPPING |\n",
       "| 2 | 3 | 3 | -122.4497 | 37.70976 |  9 | 5 | RUNAWAY    |\n",
       "| 3 | 3 | 8 | -122.4197 | 37.77468 |  4 | 5 | KIDNAPPING |\n",
       "| 4 | 2 | 2 | -122.4039 | 37.79054 | 22 | 5 | KIDNAPPING |\n",
       "| 5 | 1 | 3 | -122.4262 | 37.71002 | 16 | 5 | KIDNAPPING |\n",
       "| 6 | 1 | 7 | -122.4585 | 37.78380 | 11 | 5 | RUNAWAY    |\n",
       "\n"
      ],
      "text/plain": [
       "  DayOfWeek PdDistrict X         Y        Hour Month Category  \n",
       "1 3         3          -122.4243 37.74505 12   5     KIDNAPPING\n",
       "2 3         3          -122.4497 37.70976  9   5     RUNAWAY   \n",
       "3 3         8          -122.4197 37.77468  4   5     KIDNAPPING\n",
       "4 2         2          -122.4039 37.79054 22   5     KIDNAPPING\n",
       "5 1         3          -122.4262 37.71002 16   5     KIDNAPPING\n",
       "6 1         7          -122.4585 37.78380 11   5     RUNAWAY   "
      ]
     },
     "metadata": {},
     "output_type": "display_data"
    }
   ],
   "source": [
    "choose_train_df_ready <- data.frame(DayOfWeek = choose_train$DayOfWeek,\n",
    "                             PdDistrict = choose_train$PdDistrict,\n",
    "                             X =choose_train$X,\n",
    "                             Y= choose_train$Y,\n",
    "                             Hour = choose_train$Hour,\n",
    "                             Month = choose_train$Month,\n",
    "                             Category = choose_train$Category)\n",
    "head(choose_train_df_ready)\n",
    "                             "
   ]
  },
  {
   "cell_type": "code",
   "execution_count": 48,
   "id": "919cd858-95b2-4049-80c9-6cb2254d9e85",
   "metadata": {},
   "outputs": [
    {
     "data": {
      "text/html": [
       "<style>\n",
       ".list-inline {list-style: none; margin:0; padding: 0}\n",
       ".list-inline>li {display: inline-block}\n",
       ".list-inline>li:not(:last-child)::after {content: \"\\00b7\"; padding: 0 .5ex}\n",
       "</style>\n",
       "<ol class=list-inline><li>TRUE</li><li>TRUE</li><li>TRUE</li><li>TRUE</li><li>FALSE</li><li>FALSE</li></ol>\n"
      ],
      "text/latex": [
       "\\begin{enumerate*}\n",
       "\\item TRUE\n",
       "\\item TRUE\n",
       "\\item TRUE\n",
       "\\item TRUE\n",
       "\\item FALSE\n",
       "\\item FALSE\n",
       "\\end{enumerate*}\n"
      ],
      "text/markdown": [
       "1. TRUE\n",
       "2. TRUE\n",
       "3. TRUE\n",
       "4. TRUE\n",
       "5. FALSE\n",
       "6. FALSE\n",
       "\n",
       "\n"
      ],
      "text/plain": [
       "[1]  TRUE  TRUE  TRUE  TRUE FALSE FALSE"
      ]
     },
     "metadata": {},
     "output_type": "display_data"
    },
    {
     "data": {
      "text/plain": [
       "split_category\n",
       "FALSE  TRUE \n",
       "  0.2   0.8 "
      ]
     },
     "metadata": {},
     "output_type": "display_data"
    }
   ],
   "source": [
    "#Split data set for classification\n",
    "set.seed(123)\n",
    "split_category <- sample.split(choose_train_df_ready$Category, SplitRatio = 0.8)\n",
    "head(split_category)\n",
    "prop.table(table(split_category))"
   ]
  },
  {
   "cell_type": "code",
   "execution_count": 50,
   "id": "d5303194-2f9c-4fda-aaa3-ab6fa47bc0dd",
   "metadata": {},
   "outputs": [],
   "source": [
    "#For train lines where are TRUE, for test lines where are FALSE\n",
    "train_subset <- subset(choose_train_df_ready, split_category == \"TRUE\")\n",
    "test_subset <- subset(choose_train_df_ready, split_category == \"FALSE\")"
   ]
  },
  {
   "cell_type": "code",
   "execution_count": 52,
   "id": "45b922d1-99d9-4d5e-a9dc-a2039491c6ac",
   "metadata": {},
   "outputs": [],
   "source": [
    "#Training data and Label only from train_subset to avoid overfitting\n",
    "train_data_crime <- train_subset[,-7]\n",
    "train_label_crime <- train_subset$Category"
   ]
  },
  {
   "cell_type": "code",
   "execution_count": 58,
   "id": "a250dfb5-d504-46fc-9915-676b16635992",
   "metadata": {},
   "outputs": [
    {
     "data": {
      "text/plain": [
       "Naive Bayes \n",
       "\n",
       "4952 samples\n",
       "   6 predictor\n",
       "   3 classes: 'KIDNAPPING', 'LIQUOR LAWS', 'RUNAWAY' \n",
       "\n",
       "No pre-processing\n",
       "Resampling: Cross-Validated (10 fold) \n",
       "Summary of sample sizes: 4457, 4457, 4456, 4456, 4457, 4457, ... \n",
       "Resampling results across tuning parameters:\n",
       "\n",
       "  usekernel  Accuracy   Kappa    \n",
       "  FALSE      0.4337650  0.1505203\n",
       "   TRUE      0.5395772  0.3119445\n",
       "\n",
       "Tuning parameter 'fL' was held constant at a value of 0\n",
       "Tuning\n",
       " parameter 'adjust' was held constant at a value of 1\n",
       "Accuracy was used to select the optimal model using the largest value.\n",
       "The final values used for the model were fL = 0, usekernel = TRUE and adjust\n",
       " = 1."
      ]
     },
     "metadata": {},
     "output_type": "display_data"
    }
   ],
   "source": [
    "#Creation of model with NB method and cross validation = 10\n",
    "model2 = train(train_data_crime,train_label_crime,'nb',trControl=trainControl(method='cv',number=10))\n",
    "model2"
   ]
  },
  {
   "cell_type": "code",
   "execution_count": 60,
   "id": "c060f66d-a64b-47ce-9b5f-614a20c4faf2",
   "metadata": {},
   "outputs": [
    {
     "data": {
      "text/html": [
       "<style>\n",
       ".list-inline {list-style: none; margin:0; padding: 0}\n",
       ".list-inline>li {display: inline-block}\n",
       ".list-inline>li:not(:last-child)::after {content: \"\\00b7\"; padding: 0 .5ex}\n",
       "</style>\n",
       "<ol class=list-inline><li>KIDNAPPING</li><li>RUNAWAY</li><li>KIDNAPPING</li><li>KIDNAPPING</li><li>LIQUOR LAWS</li><li>LIQUOR LAWS</li></ol>\n",
       "\n",
       "<details>\n",
       "\t<summary style=display:list-item;cursor:pointer>\n",
       "\t\t<strong>Levels</strong>:\n",
       "\t</summary>\n",
       "\t<style>\n",
       "\t.list-inline {list-style: none; margin:0; padding: 0}\n",
       "\t.list-inline>li {display: inline-block}\n",
       "\t.list-inline>li:not(:last-child)::after {content: \"\\00b7\"; padding: 0 .5ex}\n",
       "\t</style>\n",
       "\t<ol class=list-inline><li>'KIDNAPPING'</li><li>'LIQUOR LAWS'</li><li>'RUNAWAY'</li></ol>\n",
       "</details>"
      ],
      "text/latex": [
       "\\begin{enumerate*}\n",
       "\\item KIDNAPPING\n",
       "\\item RUNAWAY\n",
       "\\item KIDNAPPING\n",
       "\\item KIDNAPPING\n",
       "\\item LIQUOR LAWS\n",
       "\\item LIQUOR LAWS\n",
       "\\end{enumerate*}\n",
       "\n",
       "\\emph{Levels}: \\begin{enumerate*}\n",
       "\\item 'KIDNAPPING'\n",
       "\\item 'LIQUOR LAWS'\n",
       "\\item 'RUNAWAY'\n",
       "\\end{enumerate*}\n"
      ],
      "text/markdown": [
       "1. KIDNAPPING\n",
       "2. RUNAWAY\n",
       "3. KIDNAPPING\n",
       "4. KIDNAPPING\n",
       "5. LIQUOR LAWS\n",
       "6. LIQUOR LAWS\n",
       "\n",
       "\n",
       "\n",
       "**Levels**: 1. 'KIDNAPPING'\n",
       "2. 'LIQUOR LAWS'\n",
       "3. 'RUNAWAY'\n",
       "\n",
       "\n"
      ],
      "text/plain": [
       "[1] KIDNAPPING  RUNAWAY     KIDNAPPING  KIDNAPPING  LIQUOR LAWS LIQUOR LAWS\n",
       "Levels: KIDNAPPING LIQUOR LAWS RUNAWAY"
      ]
     },
     "metadata": {},
     "output_type": "display_data"
    },
    {
     "data": {
      "text/html": [
       "<style>\n",
       ".list-inline {list-style: none; margin:0; padding: 0}\n",
       ".list-inline>li {display: inline-block}\n",
       ".list-inline>li:not(:last-child)::after {content: \"\\00b7\"; padding: 0 .5ex}\n",
       "</style>\n",
       "<ol class=list-inline><li>KIDNAPPING</li><li>RUNAWAY</li><li>KIDNAPPING</li><li>KIDNAPPING</li><li>KIDNAPPING</li><li>KIDNAPPING</li></ol>\n",
       "\n",
       "<details>\n",
       "\t<summary style=display:list-item;cursor:pointer>\n",
       "\t\t<strong>Levels</strong>:\n",
       "\t</summary>\n",
       "\t<style>\n",
       "\t.list-inline {list-style: none; margin:0; padding: 0}\n",
       "\t.list-inline>li {display: inline-block}\n",
       "\t.list-inline>li:not(:last-child)::after {content: \"\\00b7\"; padding: 0 .5ex}\n",
       "\t</style>\n",
       "\t<ol class=list-inline><li>'KIDNAPPING'</li><li>'LIQUOR LAWS'</li><li>'RUNAWAY'</li></ol>\n",
       "</details>"
      ],
      "text/latex": [
       "\\begin{enumerate*}\n",
       "\\item KIDNAPPING\n",
       "\\item RUNAWAY\n",
       "\\item KIDNAPPING\n",
       "\\item KIDNAPPING\n",
       "\\item KIDNAPPING\n",
       "\\item KIDNAPPING\n",
       "\\end{enumerate*}\n",
       "\n",
       "\\emph{Levels}: \\begin{enumerate*}\n",
       "\\item 'KIDNAPPING'\n",
       "\\item 'LIQUOR LAWS'\n",
       "\\item 'RUNAWAY'\n",
       "\\end{enumerate*}\n"
      ],
      "text/markdown": [
       "1. KIDNAPPING\n",
       "2. RUNAWAY\n",
       "3. KIDNAPPING\n",
       "4. KIDNAPPING\n",
       "5. KIDNAPPING\n",
       "6. KIDNAPPING\n",
       "\n",
       "\n",
       "\n",
       "**Levels**: 1. 'KIDNAPPING'\n",
       "2. 'LIQUOR LAWS'\n",
       "3. 'RUNAWAY'\n",
       "\n",
       "\n"
      ],
      "text/plain": [
       "[1] KIDNAPPING RUNAWAY    KIDNAPPING KIDNAPPING KIDNAPPING KIDNAPPING\n",
       "Levels: KIDNAPPING LIQUOR LAWS RUNAWAY"
      ]
     },
     "metadata": {},
     "output_type": "display_data"
    },
    {
     "data": {
      "text/plain": [
       "Confusion Matrix and Statistics\n",
       "\n",
       "             Reference\n",
       "Prediction    KIDNAPPING LIQUOR LAWS RUNAWAY\n",
       "  KIDNAPPING         231          76      65\n",
       "  LIQUOR LAWS        144         240      67\n",
       "  RUNAWAY             93          65     257\n",
       "\n",
       "Overall Statistics\n",
       "                                        \n",
       "               Accuracy : 0.588         \n",
       "                 95% CI : (0.56, 0.6156)\n",
       "    No Information Rate : 0.378         \n",
       "    P-Value [Acc > NIR] : < 2.2e-16     \n",
       "                                        \n",
       "                  Kappa : 0.3842        \n",
       "                                        \n",
       " Mcnemar's Test P-Value : 9.489e-06     \n",
       "\n",
       "Statistics by Class:\n",
       "\n",
       "                     Class: KIDNAPPING Class: LIQUOR LAWS Class: RUNAWAY\n",
       "Sensitivity                     0.4936             0.6299         0.6607\n",
       "Specificity                     0.8169             0.7538         0.8139\n",
       "Pos Pred Value                  0.6210             0.5322         0.6193\n",
       "Neg Pred Value                  0.7263             0.8208         0.8396\n",
       "Prevalence                      0.3780             0.3078         0.3142\n",
       "Detection Rate                  0.1866             0.1939         0.2076\n",
       "Detection Prevalence            0.3005             0.3643         0.3352\n",
       "Balanced Accuracy               0.6552             0.6919         0.7373"
      ]
     },
     "metadata": {},
     "output_type": "display_data"
    }
   ],
   "source": [
    "#We provide the remaining data from the 20% holdout set that the model hasn't seen during training\n",
    "PredictCrime <- predict(model2,newdata = test_subset)\n",
    "head(PredictCrime)\n",
    "head(test_subset$Category)\n",
    "confusionMatrix(PredictCrime,test_subset$Category)"
   ]
  }
 ],
 "metadata": {
  "kernelspec": {
   "display_name": "R",
   "language": "R",
   "name": "ir"
  },
  "language_info": {
   "codemirror_mode": "r",
   "file_extension": ".r",
   "mimetype": "text/x-r-source",
   "name": "R",
   "pygments_lexer": "r",
   "version": "4.4.2"
  }
 },
 "nbformat": 4,
 "nbformat_minor": 5
}
